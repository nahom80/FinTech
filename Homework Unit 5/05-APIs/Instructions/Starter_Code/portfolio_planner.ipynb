{
 "cells": [
  {
   "cell_type": "code",
   "execution_count": 27,
   "metadata": {
    "jupyter": {
     "outputs_hidden": true
    }
   },
   "outputs": [],
   "source": [
    "import numpy as np\n",
    "import pandas as pd\n",
    "from datetime import datetime, timedelta\n",
    "import matplotlib.pyplot as plt\n",
    "%matplotlib inline\n",
    "from pathlib import Path"
   ]
  },
  {
   "cell_type": "code",
   "execution_count": 28,
   "metadata": {},
   "outputs": [],
   "source": [
    "np.random.seed(42)"
   ]
  },
  {
   "cell_type": "markdown",
   "metadata": {},
   "source": [
    "# Portfolio Planner\n",
    "\n",
    "In this activity, you will use the iexfinance api to grab historical data for a 60/40 portfolio using `SPY` to represent the stock portion and `AGG` to represent the bonds."
   ]
  },
  {
   "cell_type": "code",
   "execution_count": 29,
   "metadata": {
    "jupyter": {
     "outputs_hidden": true
    }
   },
   "outputs": [],
   "source": [
    "from iexfinance.stocks import get_historical_data\n",
    "#from iexfinance.stocks import Stock\n",
    "import iexfinance as iex\n",
    "\n",
    "#DEBUG\n",
    "import os"
   ]
  },
  {
   "cell_type": "markdown",
   "metadata": {},
   "source": [
    "#http://finance.yahoo.com/q?s=AAPL"
   ]
  },
  {
   "cell_type": "markdown",
   "metadata": {},
   "source": [
    "# Data Collection\n",
    "\n",
    "In this step, you will need to use the IEX api to fetch closing prices for the `SPY` and `AGG` tickers. Save the results as a pandas DataFrame"
   ]
  },
  {
   "cell_type": "code",
   "execution_count": null,
   "metadata": {},
   "outputs": [],
   "source": []
  },
  {
   "cell_type": "code",
   "execution_count": 30,
   "metadata": {
    "jupyter": {
     "outputs_hidden": true
    },
    "scrolled": false
   },
   "outputs": [],
   "source": [
    "list_of_tickers = [\"SPY\", \"AGG\"]\n",
    "# YOUR CODE HERE\n",
    "\n",
    "# thought about writing an IF statement that checks for a 'pickled' filename. if it doesnt exist go through with the\n",
    "# IEXF call. if it does, just read the pickled file into a DF. this can be controlled by deleting the pickled file\n",
    "# instead of editing code.\n",
    "\n",
    "\n",
    "#######This is how i got the data initially\n",
    "#start = datetime(2018, 1, 1)\n",
    "#end = datetime(2018, 12, 31)\n",
    "#df = get_historical_data(list_of_tickers, start, end,output_format='pandas',close_only=True)\n",
    "\n",
    "\n",
    "######## WRITE TO PICKLE\n",
    "#df.to_hdf(\"SPYandAGG_2018Data.h5\", key='df')\n",
    "\n",
    "### READ FROM PICKLE to DF\n",
    "#unpickled_DF = pd.read_hdf('SPYandAGG_2018Data.h5', 'df')\n",
    "unpickled_DF = pd.read_hdf('SPYandAGG_Data.h5', 'df')\n",
    "\n",
    "\n",
    "###NOTES\n",
    "#df = get_historical_data(\"TSLA\", \"20190617\", close_only=True)"
   ]
  },
  {
   "cell_type": "code",
   "execution_count": 31,
   "metadata": {
    "scrolled": false
   },
   "outputs": [
    {
     "data": {
      "text/plain": [
       "<bound method NDFrame.pct_change of date\n",
       "2017-01-03    225.24\n",
       "2017-01-04    226.58\n",
       "2017-01-05    226.40\n",
       "2017-01-06    227.21\n",
       "2017-01-09    226.46\n",
       "               ...  \n",
       "2017-12-22    267.51\n",
       "2017-12-26    267.19\n",
       "2017-12-27    267.32\n",
       "2017-12-28    267.87\n",
       "2017-12-29    266.86\n",
       "Name: close, Length: 251, dtype: float64>"
      ]
     },
     "execution_count": 31,
     "metadata": {},
     "output_type": "execute_result"
    }
   ],
   "source": [
    "unpickled_DF\n",
    "\n",
    "SPYcloseDF = unpickled_DF['SPY']['close']\n",
    "AGGcloseDF = unpickled_DF['AGG']['close']\n",
    "\n",
    "#SPYdaily = (SPYcloseDF  - SPYcloseDF.shift(1)) / SPYcloseDF.shift(1)\n",
    "#AGGdaily = (AGGcloseDF  - AGGcloseDF.shift(1)) / AGGcloseDF.shift(1)\n",
    "AGGdaily = AGGcloseDF.pct_change\n",
    "SPYdaily = SPYcloseDF.pct_change\n",
    "\n",
    "SPYdaily"
   ]
  },
  {
   "cell_type": "code",
   "execution_count": 32,
   "metadata": {},
   "outputs": [
    {
     "data": {
      "text/html": [
       "<div>\n",
       "<style scoped>\n",
       "    .dataframe tbody tr th:only-of-type {\n",
       "        vertical-align: middle;\n",
       "    }\n",
       "\n",
       "    .dataframe tbody tr th {\n",
       "        vertical-align: top;\n",
       "    }\n",
       "\n",
       "    .dataframe thead tr th {\n",
       "        text-align: left;\n",
       "    }\n",
       "\n",
       "    .dataframe thead tr:last-of-type th {\n",
       "        text-align: right;\n",
       "    }\n",
       "</style>\n",
       "<table border=\"1\" class=\"dataframe\">\n",
       "  <thead>\n",
       "    <tr>\n",
       "      <th></th>\n",
       "      <th colspan=\"5\" halign=\"left\">SPY</th>\n",
       "      <th colspan=\"5\" halign=\"left\">AGG</th>\n",
       "    </tr>\n",
       "    <tr>\n",
       "      <th></th>\n",
       "      <th>open</th>\n",
       "      <th>high</th>\n",
       "      <th>low</th>\n",
       "      <th>close</th>\n",
       "      <th>volume</th>\n",
       "      <th>open</th>\n",
       "      <th>high</th>\n",
       "      <th>low</th>\n",
       "      <th>close</th>\n",
       "      <th>volume</th>\n",
       "    </tr>\n",
       "    <tr>\n",
       "      <th>date</th>\n",
       "      <th></th>\n",
       "      <th></th>\n",
       "      <th></th>\n",
       "      <th></th>\n",
       "      <th></th>\n",
       "      <th></th>\n",
       "      <th></th>\n",
       "      <th></th>\n",
       "      <th></th>\n",
       "      <th></th>\n",
       "    </tr>\n",
       "  </thead>\n",
       "  <tbody>\n",
       "    <tr>\n",
       "      <th>2017-01-03</th>\n",
       "      <td>225.04</td>\n",
       "      <td>225.83</td>\n",
       "      <td>223.88</td>\n",
       "      <td>225.24</td>\n",
       "      <td>91366522</td>\n",
       "      <td>107.73</td>\n",
       "      <td>108.22</td>\n",
       "      <td>107.73</td>\n",
       "      <td>108.17</td>\n",
       "      <td>5079339</td>\n",
       "    </tr>\n",
       "    <tr>\n",
       "      <th>2017-01-04</th>\n",
       "      <td>225.62</td>\n",
       "      <td>226.75</td>\n",
       "      <td>225.61</td>\n",
       "      <td>226.58</td>\n",
       "      <td>78744433</td>\n",
       "      <td>108.16</td>\n",
       "      <td>108.21</td>\n",
       "      <td>108.03</td>\n",
       "      <td>108.20</td>\n",
       "      <td>3297075</td>\n",
       "    </tr>\n",
       "    <tr>\n",
       "      <th>2017-01-05</th>\n",
       "      <td>226.27</td>\n",
       "      <td>226.58</td>\n",
       "      <td>225.48</td>\n",
       "      <td>226.40</td>\n",
       "      <td>78379012</td>\n",
       "      <td>108.37</td>\n",
       "      <td>108.68</td>\n",
       "      <td>108.22</td>\n",
       "      <td>108.65</td>\n",
       "      <td>5165933</td>\n",
       "    </tr>\n",
       "    <tr>\n",
       "      <th>2017-01-06</th>\n",
       "      <td>226.53</td>\n",
       "      <td>227.75</td>\n",
       "      <td>225.90</td>\n",
       "      <td>227.21</td>\n",
       "      <td>71559922</td>\n",
       "      <td>108.43</td>\n",
       "      <td>108.50</td>\n",
       "      <td>108.26</td>\n",
       "      <td>108.29</td>\n",
       "      <td>2910119</td>\n",
       "    </tr>\n",
       "    <tr>\n",
       "      <th>2017-01-09</th>\n",
       "      <td>226.91</td>\n",
       "      <td>227.07</td>\n",
       "      <td>226.42</td>\n",
       "      <td>226.46</td>\n",
       "      <td>46939676</td>\n",
       "      <td>108.54</td>\n",
       "      <td>108.54</td>\n",
       "      <td>108.43</td>\n",
       "      <td>108.47</td>\n",
       "      <td>3030497</td>\n",
       "    </tr>\n",
       "    <tr>\n",
       "      <th>...</th>\n",
       "      <td>...</td>\n",
       "      <td>...</td>\n",
       "      <td>...</td>\n",
       "      <td>...</td>\n",
       "      <td>...</td>\n",
       "      <td>...</td>\n",
       "      <td>...</td>\n",
       "      <td>...</td>\n",
       "      <td>...</td>\n",
       "      <td>...</td>\n",
       "    </tr>\n",
       "    <tr>\n",
       "      <th>2017-12-22</th>\n",
       "      <td>267.60</td>\n",
       "      <td>267.64</td>\n",
       "      <td>266.90</td>\n",
       "      <td>267.51</td>\n",
       "      <td>78720873</td>\n",
       "      <td>108.82</td>\n",
       "      <td>108.89</td>\n",
       "      <td>108.81</td>\n",
       "      <td>108.87</td>\n",
       "      <td>3292848</td>\n",
       "    </tr>\n",
       "    <tr>\n",
       "      <th>2017-12-26</th>\n",
       "      <td>267.05</td>\n",
       "      <td>267.44</td>\n",
       "      <td>266.89</td>\n",
       "      <td>267.19</td>\n",
       "      <td>45244433</td>\n",
       "      <td>108.91</td>\n",
       "      <td>109.01</td>\n",
       "      <td>108.87</td>\n",
       "      <td>108.96</td>\n",
       "      <td>1873401</td>\n",
       "    </tr>\n",
       "    <tr>\n",
       "      <th>2017-12-27</th>\n",
       "      <td>267.38</td>\n",
       "      <td>267.73</td>\n",
       "      <td>267.01</td>\n",
       "      <td>267.32</td>\n",
       "      <td>57750986</td>\n",
       "      <td>109.02</td>\n",
       "      <td>109.33</td>\n",
       "      <td>109.02</td>\n",
       "      <td>109.30</td>\n",
       "      <td>2046950</td>\n",
       "    </tr>\n",
       "    <tr>\n",
       "      <th>2017-12-28</th>\n",
       "      <td>267.89</td>\n",
       "      <td>267.92</td>\n",
       "      <td>267.45</td>\n",
       "      <td>267.87</td>\n",
       "      <td>45116139</td>\n",
       "      <td>109.22</td>\n",
       "      <td>109.26</td>\n",
       "      <td>109.14</td>\n",
       "      <td>109.22</td>\n",
       "      <td>2895441</td>\n",
       "    </tr>\n",
       "    <tr>\n",
       "      <th>2017-12-29</th>\n",
       "      <td>268.53</td>\n",
       "      <td>268.55</td>\n",
       "      <td>266.64</td>\n",
       "      <td>266.86</td>\n",
       "      <td>96007424</td>\n",
       "      <td>109.28</td>\n",
       "      <td>109.39</td>\n",
       "      <td>109.24</td>\n",
       "      <td>109.33</td>\n",
       "      <td>2813359</td>\n",
       "    </tr>\n",
       "  </tbody>\n",
       "</table>\n",
       "<p>251 rows × 10 columns</p>\n",
       "</div>"
      ],
      "text/plain": [
       "               SPY                                       AGG                  \\\n",
       "              open    high     low   close    volume    open    high     low   \n",
       "date                                                                           \n",
       "2017-01-03  225.04  225.83  223.88  225.24  91366522  107.73  108.22  107.73   \n",
       "2017-01-04  225.62  226.75  225.61  226.58  78744433  108.16  108.21  108.03   \n",
       "2017-01-05  226.27  226.58  225.48  226.40  78379012  108.37  108.68  108.22   \n",
       "2017-01-06  226.53  227.75  225.90  227.21  71559922  108.43  108.50  108.26   \n",
       "2017-01-09  226.91  227.07  226.42  226.46  46939676  108.54  108.54  108.43   \n",
       "...            ...     ...     ...     ...       ...     ...     ...     ...   \n",
       "2017-12-22  267.60  267.64  266.90  267.51  78720873  108.82  108.89  108.81   \n",
       "2017-12-26  267.05  267.44  266.89  267.19  45244433  108.91  109.01  108.87   \n",
       "2017-12-27  267.38  267.73  267.01  267.32  57750986  109.02  109.33  109.02   \n",
       "2017-12-28  267.89  267.92  267.45  267.87  45116139  109.22  109.26  109.14   \n",
       "2017-12-29  268.53  268.55  266.64  266.86  96007424  109.28  109.39  109.24   \n",
       "\n",
       "                             \n",
       "             close   volume  \n",
       "date                         \n",
       "2017-01-03  108.17  5079339  \n",
       "2017-01-04  108.20  3297075  \n",
       "2017-01-05  108.65  5165933  \n",
       "2017-01-06  108.29  2910119  \n",
       "2017-01-09  108.47  3030497  \n",
       "...            ...      ...  \n",
       "2017-12-22  108.87  3292848  \n",
       "2017-12-26  108.96  1873401  \n",
       "2017-12-27  109.30  2046950  \n",
       "2017-12-28  109.22  2895441  \n",
       "2017-12-29  109.33  2813359  \n",
       "\n",
       "[251 rows x 10 columns]"
      ]
     },
     "execution_count": 32,
     "metadata": {},
     "output_type": "execute_result"
    }
   ],
   "source": [
    "unpickled_DF"
   ]
  },
  {
   "cell_type": "markdown",
   "metadata": {},
   "source": [
    "# Monte Carlo Simulation\n",
    "\n",
    "In this step, you will run Monte Carlo Simulations for your portfolio to model portfolio performance at different retirement ages. \n",
    "\n",
    "Complete the following steps:\n",
    "1. Calculate the daily returns for the SPY and AGG closing prices.\n",
    "2. Calculate volatility for both the SPY and AGG closing prices.\n",
    "3. Find the last day's closing price for both stocks and save those as variables.\n",
    "4. Run a Monte Carlo Simulation of at least 500 iterations and generate at least 30 years of closing prices\n",
    "\n",
    "### HINTS:\n",
    "There are 252 trading days per year, so the number of records to generate for each Monte Carlo run will be 252 days * 30 years"
   ]
  },
  {
   "cell_type": "code",
   "execution_count": 33,
   "metadata": {},
   "outputs": [
    {
     "name": "stdout",
     "output_type": "stream",
     "text": [
      "SPY Dailies:\n",
      " date\n",
      "2017-01-03         NaN\n",
      "2017-01-04    0.005949\n",
      "2017-01-05   -0.000794\n",
      "2017-01-06    0.003578\n",
      "2017-01-09   -0.003301\n",
      "Name: close, dtype: float64\n",
      "\n",
      "AGG Dailies:\n",
      " date\n",
      "2017-01-03         NaN\n",
      "2017-01-04    0.000277\n",
      "2017-01-05    0.004159\n",
      "2017-01-06   -0.003313\n",
      "2017-01-09    0.001662\n",
      "Name: close, dtype: float64\n",
      "\n"
     ]
    }
   ],
   "source": [
    "# Calculate the daily roi for the stocks\n",
    "# YOUR CODE HERE\n",
    "\n",
    "SPYcloseDF = unpickled_DF['SPY']['close']\n",
    "AGGcloseDF = unpickled_DF['AGG']['close']\n",
    "\n",
    "SPYdaily = (SPYcloseDF  - SPYcloseDF.shift(1)) / SPYcloseDF.shift(1)\n",
    "AGGdaily = (AGGcloseDF  - AGGcloseDF.shift(1)) / AGGcloseDF.shift(1)\n",
    "\n",
    "print(f\"SPY Dailies:\\n {SPYdaily.head()}\\n\")\n",
    "print(f\"AGG Dailies:\\n {AGGdaily.head()}\\n\")\n",
    "\n"
   ]
  },
  {
   "cell_type": "code",
   "execution_count": null,
   "metadata": {},
   "outputs": [],
   "source": []
  },
  {
   "cell_type": "code",
   "execution_count": 34,
   "metadata": {
    "jupyter": {
     "outputs_hidden": true
    }
   },
   "outputs": [
    {
     "name": "stdout",
     "output_type": "stream",
     "text": [
      "SPY Voli:\n",
      " 0.0042511062695797745\n",
      "\n",
      "AGG Voli:\n",
      " 0.0018105053253493384\n",
      "\n"
     ]
    }
   ],
   "source": [
    "# Calculate volatility\n",
    "# YOUR CODE HERE\n",
    "\n",
    "SPYvoli = SPYdaily.std()# * np.sqrt(252)\n",
    "AGGvoli = AGGdaily.std()# * np.sqrt(252)\n",
    "\n",
    "print(f\"SPY Voli:\\n {SPYvoli}\\n\")\n",
    "print(f\"AGG Voli:\\n {AGGvoli}\\n\")"
   ]
  },
  {
   "cell_type": "code",
   "execution_count": 35,
   "metadata": {
    "jupyter": {
     "outputs_hidden": true
    },
    "scrolled": true
   },
   "outputs": [
    {
     "name": "stdout",
     "output_type": "stream",
     "text": [
      "0.0006874651726549415\n",
      "0.0042511062695797745\n"
     ]
    },
    {
     "data": {
      "text/plain": [
       "date\n",
       "2017-01-03    225.24\n",
       "2017-01-04    226.58\n",
       "2017-01-05    226.40\n",
       "2017-01-06    227.21\n",
       "2017-01-09    226.46\n",
       "               ...  \n",
       "2017-12-22    267.51\n",
       "2017-12-26    267.19\n",
       "2017-12-27    267.32\n",
       "2017-12-28    267.87\n",
       "2017-12-29    266.86\n",
       "Name: close, Length: 251, dtype: float64"
      ]
     },
     "execution_count": 35,
     "metadata": {},
     "output_type": "execute_result"
    }
   ],
   "source": [
    "# Save the last day's closing price\n",
    "LastdaySPY = SPYcloseDF[-1]\n",
    "LastdayAGG = AGGcloseDF[-1]\n",
    "\n",
    "#For clarity in monteCarlo\n",
    "SPY_simPrices = [LastdaySPY]\n",
    "AGG_simPrices = [LastdayAGG]\n",
    "\n",
    "\n",
    "AGG_adr = AGGdaily.mean()\n",
    "SPY_adr = SPYdaily.mean()\n",
    "\n",
    "print(SPY_adr)\n",
    "print(SPYdaily.std())\n",
    "SPYcloseDF"
   ]
  },
  {
   "cell_type": "code",
   "execution_count": 36,
   "metadata": {
    "jupyter": {
     "outputs_hidden": true
    },
    "scrolled": false
   },
   "outputs": [],
   "source": [
    "# Setup the Monte Carlo Parameters\n",
    "number_simulations = 500\n",
    "number_records = 252 * 30\n",
    "monte_carlo = pd.DataFrame()\n",
    "portfolio_cumulative_returns = pd.DataFrame()\n",
    "\n",
    "#####DEBUG TEST\n",
    "#number_simulations = 10\n",
    "#number_records = 252 * 30\n",
    "\n",
    "### randos\n",
    "#randomArray = np.random.random([1,3_780_000])\n",
    "\n",
    "#myflot = randomArray[0][1]\n",
    "#myflot\n",
    "#type(1+np.random.normal(1,2))\n",
    "\n",
    "SPYnumArray = (1 + np.random.normal(SPY_adr, SPYdaily.std(),3_800_000))\n",
    "AGGnumArray = (1 + np.random.normal(AGG_adr, AGGdaily.std(),3_800_000))\n",
    "\n",
    "#SPYnumArray[:100]\n",
    "\n",
    "#(1 + np.random.normal(avg_daily_return, std_dev_daily_return)\n",
    "\n",
    "#(np.random.normal(AGG_adr, AGGdaily.std(),300)).min()"
   ]
  },
  {
   "cell_type": "code",
   "execution_count": 37,
   "metadata": {},
   "outputs": [],
   "source": [
    "#1 + np.random.normal(AGG_adr, AGGdaily.std(),100)\n",
    "\n",
    "#SPYdaily.std()"
   ]
  },
  {
   "cell_type": "code",
   "execution_count": 38,
   "metadata": {},
   "outputs": [],
   "source": [
    "# Run the Monte Carlo Simulation\n",
    "randItr = 0\n",
    "\n",
    "for x in range(number_simulations):\n",
    "    \n",
    "    # YOUR CODE HERE\n",
    "    \n",
    "    SPYsimPriceList = [LastdaySPY]\n",
    "    AGGsimPriceList = [LastdayAGG]\n",
    "    #print(x)\n",
    "    for i in range(number_records):\n",
    "        SPY_currSim = SPYsimPriceList[-1] * SPYnumArray[randItr]\n",
    "        AGG_currSim = AGGsimPriceList[-1] * AGGnumArray[randItr]\n",
    "        \n",
    "        #Append the simulated price to the list\n",
    "        SPYsimPriceList.append(SPY_currSim)\n",
    "        AGGsimPriceList.append(AGG_currSim)\n",
    "        randItr += 1\n",
    "    ###### END INNER LOOP\n",
    "    \n",
    "    monte_carlo[\"SPY prices\"] = pd.Series(SPYsimPriceList)\n",
    "    monte_carlo[\"AGG prices\"] = pd.Series(AGGsimPriceList)\n",
    "    \n",
    "    SimDR = monte_carlo.pct_change()\n",
    "\n",
    "    \n",
    "    weights = [0.6, 0.4]\n",
    "    SimDRweighted = SimDR.dot(weights)\n",
    "    portfolio_cumulative_returns[x] = (1 + SimDRweighted.fillna(0)).cumprod()\n",
    "    \n",
    "    \n",
    "#len(SPYsimPriceList)\n",
    "\n",
    "#SPYsimulated_df = pd.DataFrame({\"Simulated SPY Prices\": SPYsimPriceList})\n",
    "#AGGsimulated_df = pd.DataFrame({\"Simulated AGG Prices\": AGGsimPriceList})\n",
    "\n"
   ]
  },
  {
   "cell_type": "code",
   "execution_count": 39,
   "metadata": {
    "scrolled": true
   },
   "outputs": [
    {
     "data": {
      "text/html": [
       "<div>\n",
       "<style scoped>\n",
       "    .dataframe tbody tr th:only-of-type {\n",
       "        vertical-align: middle;\n",
       "    }\n",
       "\n",
       "    .dataframe tbody tr th {\n",
       "        vertical-align: top;\n",
       "    }\n",
       "\n",
       "    .dataframe thead th {\n",
       "        text-align: right;\n",
       "    }\n",
       "</style>\n",
       "<table border=\"1\" class=\"dataframe\">\n",
       "  <thead>\n",
       "    <tr style=\"text-align: right;\">\n",
       "      <th></th>\n",
       "      <th>0</th>\n",
       "      <th>1</th>\n",
       "      <th>2</th>\n",
       "      <th>3</th>\n",
       "      <th>4</th>\n",
       "      <th>5</th>\n",
       "      <th>6</th>\n",
       "      <th>7</th>\n",
       "      <th>8</th>\n",
       "      <th>9</th>\n",
       "      <th>...</th>\n",
       "      <th>490</th>\n",
       "      <th>491</th>\n",
       "      <th>492</th>\n",
       "      <th>493</th>\n",
       "      <th>494</th>\n",
       "      <th>495</th>\n",
       "      <th>496</th>\n",
       "      <th>497</th>\n",
       "      <th>498</th>\n",
       "      <th>499</th>\n",
       "    </tr>\n",
       "  </thead>\n",
       "  <tbody>\n",
       "    <tr>\n",
       "      <th>7556</th>\n",
       "      <td>21.165574</td>\n",
       "      <td>33.791391</td>\n",
       "      <td>28.303811</td>\n",
       "      <td>21.415522</td>\n",
       "      <td>18.137441</td>\n",
       "      <td>37.169329</td>\n",
       "      <td>22.137971</td>\n",
       "      <td>24.695024</td>\n",
       "      <td>32.965797</td>\n",
       "      <td>22.710338</td>\n",
       "      <td>...</td>\n",
       "      <td>22.312865</td>\n",
       "      <td>21.738077</td>\n",
       "      <td>38.974521</td>\n",
       "      <td>19.601115</td>\n",
       "      <td>22.423285</td>\n",
       "      <td>20.705377</td>\n",
       "      <td>20.226151</td>\n",
       "      <td>26.473605</td>\n",
       "      <td>33.056081</td>\n",
       "      <td>34.935332</td>\n",
       "    </tr>\n",
       "    <tr>\n",
       "      <th>7557</th>\n",
       "      <td>21.248523</td>\n",
       "      <td>33.809388</td>\n",
       "      <td>28.325674</td>\n",
       "      <td>21.495594</td>\n",
       "      <td>18.058425</td>\n",
       "      <td>37.224239</td>\n",
       "      <td>22.194327</td>\n",
       "      <td>24.691473</td>\n",
       "      <td>32.975090</td>\n",
       "      <td>22.668913</td>\n",
       "      <td>...</td>\n",
       "      <td>22.453472</td>\n",
       "      <td>21.815820</td>\n",
       "      <td>38.873398</td>\n",
       "      <td>19.584189</td>\n",
       "      <td>22.411181</td>\n",
       "      <td>20.715348</td>\n",
       "      <td>20.225646</td>\n",
       "      <td>26.465539</td>\n",
       "      <td>33.073798</td>\n",
       "      <td>35.129064</td>\n",
       "    </tr>\n",
       "    <tr>\n",
       "      <th>7558</th>\n",
       "      <td>21.264056</td>\n",
       "      <td>33.792539</td>\n",
       "      <td>28.343701</td>\n",
       "      <td>21.525269</td>\n",
       "      <td>17.933657</td>\n",
       "      <td>37.286582</td>\n",
       "      <td>22.140362</td>\n",
       "      <td>24.701008</td>\n",
       "      <td>32.893332</td>\n",
       "      <td>22.770774</td>\n",
       "      <td>...</td>\n",
       "      <td>22.497304</td>\n",
       "      <td>21.841003</td>\n",
       "      <td>38.868832</td>\n",
       "      <td>19.662496</td>\n",
       "      <td>22.516911</td>\n",
       "      <td>20.745884</td>\n",
       "      <td>20.245591</td>\n",
       "      <td>26.415949</td>\n",
       "      <td>33.138121</td>\n",
       "      <td>35.179422</td>\n",
       "    </tr>\n",
       "    <tr>\n",
       "      <th>7559</th>\n",
       "      <td>21.252639</td>\n",
       "      <td>33.726352</td>\n",
       "      <td>28.283248</td>\n",
       "      <td>21.545495</td>\n",
       "      <td>17.910381</td>\n",
       "      <td>37.417998</td>\n",
       "      <td>22.178391</td>\n",
       "      <td>24.684598</td>\n",
       "      <td>32.796631</td>\n",
       "      <td>22.813576</td>\n",
       "      <td>...</td>\n",
       "      <td>22.541636</td>\n",
       "      <td>21.892556</td>\n",
       "      <td>38.894433</td>\n",
       "      <td>19.654127</td>\n",
       "      <td>22.585583</td>\n",
       "      <td>20.804945</td>\n",
       "      <td>20.127812</td>\n",
       "      <td>26.402300</td>\n",
       "      <td>33.111861</td>\n",
       "      <td>35.184245</td>\n",
       "    </tr>\n",
       "    <tr>\n",
       "      <th>7560</th>\n",
       "      <td>21.251441</td>\n",
       "      <td>33.971322</td>\n",
       "      <td>28.228777</td>\n",
       "      <td>21.589709</td>\n",
       "      <td>17.926041</td>\n",
       "      <td>37.556198</td>\n",
       "      <td>22.301587</td>\n",
       "      <td>24.753922</td>\n",
       "      <td>32.911760</td>\n",
       "      <td>22.840127</td>\n",
       "      <td>...</td>\n",
       "      <td>22.512917</td>\n",
       "      <td>21.965516</td>\n",
       "      <td>39.003188</td>\n",
       "      <td>19.647795</td>\n",
       "      <td>22.574822</td>\n",
       "      <td>20.784453</td>\n",
       "      <td>20.058193</td>\n",
       "      <td>26.491634</td>\n",
       "      <td>33.042610</td>\n",
       "      <td>35.209432</td>\n",
       "    </tr>\n",
       "  </tbody>\n",
       "</table>\n",
       "<p>5 rows × 500 columns</p>\n",
       "</div>"
      ],
      "text/plain": [
       "            0          1          2          3          4          5    \\\n",
       "7556  21.165574  33.791391  28.303811  21.415522  18.137441  37.169329   \n",
       "7557  21.248523  33.809388  28.325674  21.495594  18.058425  37.224239   \n",
       "7558  21.264056  33.792539  28.343701  21.525269  17.933657  37.286582   \n",
       "7559  21.252639  33.726352  28.283248  21.545495  17.910381  37.417998   \n",
       "7560  21.251441  33.971322  28.228777  21.589709  17.926041  37.556198   \n",
       "\n",
       "            6          7          8          9    ...        490        491  \\\n",
       "7556  22.137971  24.695024  32.965797  22.710338  ...  22.312865  21.738077   \n",
       "7557  22.194327  24.691473  32.975090  22.668913  ...  22.453472  21.815820   \n",
       "7558  22.140362  24.701008  32.893332  22.770774  ...  22.497304  21.841003   \n",
       "7559  22.178391  24.684598  32.796631  22.813576  ...  22.541636  21.892556   \n",
       "7560  22.301587  24.753922  32.911760  22.840127  ...  22.512917  21.965516   \n",
       "\n",
       "            492        493        494        495        496        497  \\\n",
       "7556  38.974521  19.601115  22.423285  20.705377  20.226151  26.473605   \n",
       "7557  38.873398  19.584189  22.411181  20.715348  20.225646  26.465539   \n",
       "7558  38.868832  19.662496  22.516911  20.745884  20.245591  26.415949   \n",
       "7559  38.894433  19.654127  22.585583  20.804945  20.127812  26.402300   \n",
       "7560  39.003188  19.647795  22.574822  20.784453  20.058193  26.491634   \n",
       "\n",
       "            498        499  \n",
       "7556  33.056081  34.935332  \n",
       "7557  33.073798  35.129064  \n",
       "7558  33.138121  35.179422  \n",
       "7559  33.111861  35.184245  \n",
       "7560  33.042610  35.209432  \n",
       "\n",
       "[5 rows x 500 columns]"
      ]
     },
     "execution_count": 39,
     "metadata": {},
     "output_type": "execute_result"
    }
   ],
   "source": [
    "\n",
    "\n",
    "# Print records from the DataFrame\n",
    "portfolio_cumulative_returns.tail()"
   ]
  },
  {
   "cell_type": "code",
   "execution_count": 40,
   "metadata": {
    "scrolled": true
   },
   "outputs": [
    {
     "data": {
      "text/plain": [
       "<matplotlib.axes._subplots.AxesSubplot at 0x1a9767b0128>"
      ]
     },
     "execution_count": 40,
     "metadata": {},
     "output_type": "execute_result"
    },
    {
     "data": {
      "image/png": "[encoded data removed]",
      "text/plain": [
       "<Figure size 1008x504 with 1 Axes>"
      ]
     },
     "metadata": {
      "needs_background": "light"
     },
     "output_type": "display_data"
    }
   ],
   "source": [
    "# Visualize the Simulation\n",
    "# YOUR CODE HERE\n",
    "plot_title = f\"{x+1} Simulations of Cumulative Portfolio Return \"\n",
    "portfolio_cumulative_returns.plot(legend=None, title=plot_title,figsize=(14,7))"
   ]
  },
  {
   "cell_type": "code",
   "execution_count": 41,
   "metadata": {
    "scrolled": false
   },
   "outputs": [
    {
     "name": "stdout",
     "output_type": "stream",
     "text": [
      "0      21.251441\n",
      "1      33.971322\n",
      "2      28.228777\n",
      "3      21.589709\n",
      "4      17.926041\n",
      "         ...    \n",
      "495    20.784453\n",
      "496    20.058193\n",
      "497    26.491634\n",
      "498    33.042610\n",
      "499    35.209432\n",
      "Name: 7560, Length: 500, dtype: float64\n"
     ]
    }
   ],
   "source": [
    "# Select the last row for the cumulative returns (cumulative returns at 30 years)\n",
    "#simulated cumlative ret\n",
    "thirtyYearProbability = portfolio_cumulative_returns.iloc[-1, :]\n",
    "print(thirtyYearProbability)\n"
   ]
  },
  {
   "cell_type": "code",
   "execution_count": 42,
   "metadata": {},
   "outputs": [
    {
     "data": {
      "text/html": [
       "<div>\n",
       "<style scoped>\n",
       "    .dataframe tbody tr th:only-of-type {\n",
       "        vertical-align: middle;\n",
       "    }\n",
       "\n",
       "    .dataframe tbody tr th {\n",
       "        vertical-align: top;\n",
       "    }\n",
       "\n",
       "    .dataframe thead th {\n",
       "        text-align: right;\n",
       "    }\n",
       "</style>\n",
       "<table border=\"1\" class=\"dataframe\">\n",
       "  <thead>\n",
       "    <tr style=\"text-align: right;\">\n",
       "      <th></th>\n",
       "      <th>0</th>\n",
       "      <th>1</th>\n",
       "      <th>2</th>\n",
       "      <th>3</th>\n",
       "      <th>4</th>\n",
       "      <th>5</th>\n",
       "      <th>6</th>\n",
       "      <th>7</th>\n",
       "      <th>8</th>\n",
       "      <th>9</th>\n",
       "      <th>...</th>\n",
       "      <th>490</th>\n",
       "      <th>491</th>\n",
       "      <th>492</th>\n",
       "      <th>493</th>\n",
       "      <th>494</th>\n",
       "      <th>495</th>\n",
       "      <th>496</th>\n",
       "      <th>497</th>\n",
       "      <th>498</th>\n",
       "      <th>499</th>\n",
       "    </tr>\n",
       "  </thead>\n",
       "  <tbody>\n",
       "    <tr>\n",
       "      <th>0</th>\n",
       "      <td>1.000000</td>\n",
       "      <td>1.000000</td>\n",
       "      <td>1.000000</td>\n",
       "      <td>1.000000</td>\n",
       "      <td>1.000000</td>\n",
       "      <td>1.000000</td>\n",
       "      <td>1.000000</td>\n",
       "      <td>1.000000</td>\n",
       "      <td>1.000000</td>\n",
       "      <td>1.000000</td>\n",
       "      <td>...</td>\n",
       "      <td>1.000000</td>\n",
       "      <td>1.000000</td>\n",
       "      <td>1.000000</td>\n",
       "      <td>1.000000</td>\n",
       "      <td>1.000000</td>\n",
       "      <td>1.000000</td>\n",
       "      <td>1.000000</td>\n",
       "      <td>1.000000</td>\n",
       "      <td>1.000000</td>\n",
       "      <td>1.000000</td>\n",
       "    </tr>\n",
       "    <tr>\n",
       "      <th>1</th>\n",
       "      <td>1.002494</td>\n",
       "      <td>0.997257</td>\n",
       "      <td>0.997533</td>\n",
       "      <td>0.996020</td>\n",
       "      <td>0.997209</td>\n",
       "      <td>0.999788</td>\n",
       "      <td>1.000747</td>\n",
       "      <td>0.995447</td>\n",
       "      <td>1.001913</td>\n",
       "      <td>1.001841</td>\n",
       "      <td>...</td>\n",
       "      <td>0.998602</td>\n",
       "      <td>1.002407</td>\n",
       "      <td>0.998980</td>\n",
       "      <td>0.999578</td>\n",
       "      <td>1.001040</td>\n",
       "      <td>0.998562</td>\n",
       "      <td>0.999234</td>\n",
       "      <td>1.004962</td>\n",
       "      <td>0.998276</td>\n",
       "      <td>1.003861</td>\n",
       "    </tr>\n",
       "    <tr>\n",
       "      <th>2</th>\n",
       "      <td>1.002225</td>\n",
       "      <td>0.995159</td>\n",
       "      <td>0.997572</td>\n",
       "      <td>0.994255</td>\n",
       "      <td>0.996867</td>\n",
       "      <td>0.998781</td>\n",
       "      <td>1.003888</td>\n",
       "      <td>0.995284</td>\n",
       "      <td>1.008627</td>\n",
       "      <td>1.003138</td>\n",
       "      <td>...</td>\n",
       "      <td>0.994935</td>\n",
       "      <td>1.000856</td>\n",
       "      <td>0.999036</td>\n",
       "      <td>1.003292</td>\n",
       "      <td>1.004683</td>\n",
       "      <td>0.998738</td>\n",
       "      <td>1.003998</td>\n",
       "      <td>1.002938</td>\n",
       "      <td>0.998352</td>\n",
       "      <td>1.008034</td>\n",
       "    </tr>\n",
       "    <tr>\n",
       "      <th>3</th>\n",
       "      <td>1.005399</td>\n",
       "      <td>0.998564</td>\n",
       "      <td>0.998572</td>\n",
       "      <td>0.992820</td>\n",
       "      <td>0.996311</td>\n",
       "      <td>0.994770</td>\n",
       "      <td>1.004948</td>\n",
       "      <td>0.992902</td>\n",
       "      <td>1.011616</td>\n",
       "      <td>1.002600</td>\n",
       "      <td>...</td>\n",
       "      <td>0.997334</td>\n",
       "      <td>1.001840</td>\n",
       "      <td>1.001360</td>\n",
       "      <td>0.999760</td>\n",
       "      <td>1.002724</td>\n",
       "      <td>0.996851</td>\n",
       "      <td>1.003764</td>\n",
       "      <td>1.001847</td>\n",
       "      <td>1.000426</td>\n",
       "      <td>1.012337</td>\n",
       "    </tr>\n",
       "    <tr>\n",
       "      <th>4</th>\n",
       "      <td>1.008574</td>\n",
       "      <td>1.001025</td>\n",
       "      <td>1.000601</td>\n",
       "      <td>0.993704</td>\n",
       "      <td>0.999305</td>\n",
       "      <td>0.989679</td>\n",
       "      <td>0.999269</td>\n",
       "      <td>0.994687</td>\n",
       "      <td>1.009551</td>\n",
       "      <td>1.006604</td>\n",
       "      <td>...</td>\n",
       "      <td>0.996975</td>\n",
       "      <td>1.002586</td>\n",
       "      <td>1.004225</td>\n",
       "      <td>0.998904</td>\n",
       "      <td>1.002822</td>\n",
       "      <td>0.996254</td>\n",
       "      <td>1.007778</td>\n",
       "      <td>1.000251</td>\n",
       "      <td>1.000009</td>\n",
       "      <td>1.009556</td>\n",
       "    </tr>\n",
       "    <tr>\n",
       "      <th>...</th>\n",
       "      <td>...</td>\n",
       "      <td>...</td>\n",
       "      <td>...</td>\n",
       "      <td>...</td>\n",
       "      <td>...</td>\n",
       "      <td>...</td>\n",
       "      <td>...</td>\n",
       "      <td>...</td>\n",
       "      <td>...</td>\n",
       "      <td>...</td>\n",
       "      <td>...</td>\n",
       "      <td>...</td>\n",
       "      <td>...</td>\n",
       "      <td>...</td>\n",
       "      <td>...</td>\n",
       "      <td>...</td>\n",
       "      <td>...</td>\n",
       "      <td>...</td>\n",
       "      <td>...</td>\n",
       "      <td>...</td>\n",
       "      <td>...</td>\n",
       "    </tr>\n",
       "    <tr>\n",
       "      <th>7556</th>\n",
       "      <td>21.165574</td>\n",
       "      <td>33.791391</td>\n",
       "      <td>28.303811</td>\n",
       "      <td>21.415522</td>\n",
       "      <td>18.137441</td>\n",
       "      <td>37.169329</td>\n",
       "      <td>22.137971</td>\n",
       "      <td>24.695024</td>\n",
       "      <td>32.965797</td>\n",
       "      <td>22.710338</td>\n",
       "      <td>...</td>\n",
       "      <td>22.312865</td>\n",
       "      <td>21.738077</td>\n",
       "      <td>38.974521</td>\n",
       "      <td>19.601115</td>\n",
       "      <td>22.423285</td>\n",
       "      <td>20.705377</td>\n",
       "      <td>20.226151</td>\n",
       "      <td>26.473605</td>\n",
       "      <td>33.056081</td>\n",
       "      <td>34.935332</td>\n",
       "    </tr>\n",
       "    <tr>\n",
       "      <th>7557</th>\n",
       "      <td>21.248523</td>\n",
       "      <td>33.809388</td>\n",
       "      <td>28.325674</td>\n",
       "      <td>21.495594</td>\n",
       "      <td>18.058425</td>\n",
       "      <td>37.224239</td>\n",
       "      <td>22.194327</td>\n",
       "      <td>24.691473</td>\n",
       "      <td>32.975090</td>\n",
       "      <td>22.668913</td>\n",
       "      <td>...</td>\n",
       "      <td>22.453472</td>\n",
       "      <td>21.815820</td>\n",
       "      <td>38.873398</td>\n",
       "      <td>19.584189</td>\n",
       "      <td>22.411181</td>\n",
       "      <td>20.715348</td>\n",
       "      <td>20.225646</td>\n",
       "      <td>26.465539</td>\n",
       "      <td>33.073798</td>\n",
       "      <td>35.129064</td>\n",
       "    </tr>\n",
       "    <tr>\n",
       "      <th>7558</th>\n",
       "      <td>21.264056</td>\n",
       "      <td>33.792539</td>\n",
       "      <td>28.343701</td>\n",
       "      <td>21.525269</td>\n",
       "      <td>17.933657</td>\n",
       "      <td>37.286582</td>\n",
       "      <td>22.140362</td>\n",
       "      <td>24.701008</td>\n",
       "      <td>32.893332</td>\n",
       "      <td>22.770774</td>\n",
       "      <td>...</td>\n",
       "      <td>22.497304</td>\n",
       "      <td>21.841003</td>\n",
       "      <td>38.868832</td>\n",
       "      <td>19.662496</td>\n",
       "      <td>22.516911</td>\n",
       "      <td>20.745884</td>\n",
       "      <td>20.245591</td>\n",
       "      <td>26.415949</td>\n",
       "      <td>33.138121</td>\n",
       "      <td>35.179422</td>\n",
       "    </tr>\n",
       "    <tr>\n",
       "      <th>7559</th>\n",
       "      <td>21.252639</td>\n",
       "      <td>33.726352</td>\n",
       "      <td>28.283248</td>\n",
       "      <td>21.545495</td>\n",
       "      <td>17.910381</td>\n",
       "      <td>37.417998</td>\n",
       "      <td>22.178391</td>\n",
       "      <td>24.684598</td>\n",
       "      <td>32.796631</td>\n",
       "      <td>22.813576</td>\n",
       "      <td>...</td>\n",
       "      <td>22.541636</td>\n",
       "      <td>21.892556</td>\n",
       "      <td>38.894433</td>\n",
       "      <td>19.654127</td>\n",
       "      <td>22.585583</td>\n",
       "      <td>20.804945</td>\n",
       "      <td>20.127812</td>\n",
       "      <td>26.402300</td>\n",
       "      <td>33.111861</td>\n",
       "      <td>35.184245</td>\n",
       "    </tr>\n",
       "    <tr>\n",
       "      <th>7560</th>\n",
       "      <td>21.251441</td>\n",
       "      <td>33.971322</td>\n",
       "      <td>28.228777</td>\n",
       "      <td>21.589709</td>\n",
       "      <td>17.926041</td>\n",
       "      <td>37.556198</td>\n",
       "      <td>22.301587</td>\n",
       "      <td>24.753922</td>\n",
       "      <td>32.911760</td>\n",
       "      <td>22.840127</td>\n",
       "      <td>...</td>\n",
       "      <td>22.512917</td>\n",
       "      <td>21.965516</td>\n",
       "      <td>39.003188</td>\n",
       "      <td>19.647795</td>\n",
       "      <td>22.574822</td>\n",
       "      <td>20.784453</td>\n",
       "      <td>20.058193</td>\n",
       "      <td>26.491634</td>\n",
       "      <td>33.042610</td>\n",
       "      <td>35.209432</td>\n",
       "    </tr>\n",
       "  </tbody>\n",
       "</table>\n",
       "<p>7561 rows × 500 columns</p>\n",
       "</div>"
      ],
      "text/plain": [
       "            0          1          2          3          4          5    \\\n",
       "0      1.000000   1.000000   1.000000   1.000000   1.000000   1.000000   \n",
       "1      1.002494   0.997257   0.997533   0.996020   0.997209   0.999788   \n",
       "2      1.002225   0.995159   0.997572   0.994255   0.996867   0.998781   \n",
       "3      1.005399   0.998564   0.998572   0.992820   0.996311   0.994770   \n",
       "4      1.008574   1.001025   1.000601   0.993704   0.999305   0.989679   \n",
       "...         ...        ...        ...        ...        ...        ...   \n",
       "7556  21.165574  33.791391  28.303811  21.415522  18.137441  37.169329   \n",
       "7557  21.248523  33.809388  28.325674  21.495594  18.058425  37.224239   \n",
       "7558  21.264056  33.792539  28.343701  21.525269  17.933657  37.286582   \n",
       "7559  21.252639  33.726352  28.283248  21.545495  17.910381  37.417998   \n",
       "7560  21.251441  33.971322  28.228777  21.589709  17.926041  37.556198   \n",
       "\n",
       "            6          7          8          9    ...        490        491  \\\n",
       "0      1.000000   1.000000   1.000000   1.000000  ...   1.000000   1.000000   \n",
       "1      1.000747   0.995447   1.001913   1.001841  ...   0.998602   1.002407   \n",
       "2      1.003888   0.995284   1.008627   1.003138  ...   0.994935   1.000856   \n",
       "3      1.004948   0.992902   1.011616   1.002600  ...   0.997334   1.001840   \n",
       "4      0.999269   0.994687   1.009551   1.006604  ...   0.996975   1.002586   \n",
       "...         ...        ...        ...        ...  ...        ...        ...   \n",
       "7556  22.137971  24.695024  32.965797  22.710338  ...  22.312865  21.738077   \n",
       "7557  22.194327  24.691473  32.975090  22.668913  ...  22.453472  21.815820   \n",
       "7558  22.140362  24.701008  32.893332  22.770774  ...  22.497304  21.841003   \n",
       "7559  22.178391  24.684598  32.796631  22.813576  ...  22.541636  21.892556   \n",
       "7560  22.301587  24.753922  32.911760  22.840127  ...  22.512917  21.965516   \n",
       "\n",
       "            492        493        494        495        496        497  \\\n",
       "0      1.000000   1.000000   1.000000   1.000000   1.000000   1.000000   \n",
       "1      0.998980   0.999578   1.001040   0.998562   0.999234   1.004962   \n",
       "2      0.999036   1.003292   1.004683   0.998738   1.003998   1.002938   \n",
       "3      1.001360   0.999760   1.002724   0.996851   1.003764   1.001847   \n",
       "4      1.004225   0.998904   1.002822   0.996254   1.007778   1.000251   \n",
       "...         ...        ...        ...        ...        ...        ...   \n",
       "7556  38.974521  19.601115  22.423285  20.705377  20.226151  26.473605   \n",
       "7557  38.873398  19.584189  22.411181  20.715348  20.225646  26.465539   \n",
       "7558  38.868832  19.662496  22.516911  20.745884  20.245591  26.415949   \n",
       "7559  38.894433  19.654127  22.585583  20.804945  20.127812  26.402300   \n",
       "7560  39.003188  19.647795  22.574822  20.784453  20.058193  26.491634   \n",
       "\n",
       "            498        499  \n",
       "0      1.000000   1.000000  \n",
       "1      0.998276   1.003861  \n",
       "2      0.998352   1.008034  \n",
       "3      1.000426   1.012337  \n",
       "4      1.000009   1.009556  \n",
       "...         ...        ...  \n",
       "7556  33.056081  34.935332  \n",
       "7557  33.073798  35.129064  \n",
       "7558  33.138121  35.179422  \n",
       "7559  33.111861  35.184245  \n",
       "7560  33.042610  35.209432  \n",
       "\n",
       "[7561 rows x 500 columns]"
      ]
     },
     "execution_count": 42,
     "metadata": {},
     "output_type": "execute_result"
    }
   ],
   "source": [
    "portfolio_cumulative_returns"
   ]
  },
  {
   "cell_type": "code",
   "execution_count": 43,
   "metadata": {},
   "outputs": [
    {
     "name": "stdout",
     "output_type": "stream",
     "text": [
      "End of 20 years:\n",
      " 0       8.697446\n",
      "1       8.589038\n",
      "2      10.849918\n",
      "3       9.020780\n",
      "4       6.497656\n",
      "         ...    \n",
      "495     6.997979\n",
      "496     6.967046\n",
      "497     8.930971\n",
      "498    10.012218\n",
      "499     8.842247\n",
      "Name: 5040, Length: 500, dtype: float64\n"
     ]
    }
   ],
   "source": [
    "# Select the last row for the cumulative returns (cumulative returns at 20 years)\n",
    "# YOUR CODE HERE\n",
    "#5040 is 252days * 20 years\n",
    "twentyYearProbability = portfolio_cumulative_returns.iloc[5040,:5041]\n",
    "print(f\"End of 20 years:\\n {twentyYearProbability}\")\n"
   ]
  },
  {
   "cell_type": "code",
   "execution_count": 44,
   "metadata": {},
   "outputs": [
    {
     "name": "stdout",
     "output_type": "stream",
     "text": [
      "0.05    17.162840\n",
      "0.95    36.746862\n",
      "Name: 7560, dtype: float64\n",
      "0.05     6.286127\n",
      "0.95    11.727582\n",
      "Name: 5040, dtype: float64\n"
     ]
    }
   ],
   "source": [
    "# Display the 90% confidence interval for the ending returns\n",
    "# YOUR CODE HERE\n",
    "\n",
    "######\n",
    "confidence_interval_30_90 = thirtyYearProbability.quantile(q=[0.05, 0.95])\n",
    "confidence_interval_20_90 = twentyYearProbability.quantile(q=[0.05, 0.95])\n",
    "\n",
    "print(confidence_interval_30_90)\n",
    "print(confidence_interval_20_90)\n",
    "\n"
   ]
  },
  {
   "cell_type": "code",
   "execution_count": 45,
   "metadata": {},
   "outputs": [
    {
     "data": {
      "text/plain": [
       "<matplotlib.lines.Line2D at 0x1a904e3d978>"
      ]
     },
     "execution_count": 45,
     "metadata": {},
     "output_type": "execute_result"
    },
    {
     "data": {
      "image/png": "[encoded data removed]",
      "text/plain": [
       "<Figure size 432x288 with 1 Axes>"
      ]
     },
     "metadata": {
      "needs_background": "light"
     },
     "output_type": "display_data"
    },
    {
     "data": {
      "image/png": "[encoded data removed]",
      "text/plain": [
       "<Figure size 432x288 with 1 Axes>"
      ]
     },
     "metadata": {
      "needs_background": "light"
     },
     "output_type": "display_data"
    }
   ],
   "source": [
    "# Visualize the distribution of the ending returns\n",
    "# YOUR CODE HERE\n",
    "#### 30 year\n",
    "thirtyYearProbability.plot(kind='hist')\n",
    "plt.figure()\n",
    "thirtyYearProbability.plot(kind='hist', density=True, bins=10)\n",
    "plt.axvline(confidence_interval_30_90.iloc[0], color='r')\n",
    "plt.axvline(confidence_interval_30_90.iloc[1], color='r')\n",
    "\n"
   ]
  },
  {
   "cell_type": "code",
   "execution_count": 46,
   "metadata": {},
   "outputs": [
    {
     "data": {
      "text/plain": [
       "<matplotlib.lines.Line2D at 0x1a900108438>"
      ]
     },
     "execution_count": 46,
     "metadata": {},
     "output_type": "execute_result"
    },
    {
     "data": {
      "image/png": "[encoded data removed]",
      "text/plain": [
       "<Figure size 432x288 with 1 Axes>"
      ]
     },
     "metadata": {
      "needs_background": "light"
     },
     "output_type": "display_data"
    },
    {
     "data": {
      "image/png": "[encoded data removed]",
      "text/plain": [
       "<Figure size 432x288 with 1 Axes>"
      ]
     },
     "metadata": {
      "needs_background": "light"
     },
     "output_type": "display_data"
    }
   ],
   "source": [
    "#### 20 year\n",
    "\n",
    "twentyYearProbability.plot(kind='hist')\n",
    "plt.figure()\n",
    "twentyYearProbability.plot(kind='hist', density=True, bins=10)\n",
    "plt.axvline(confidence_interval_20_90.iloc[0], color='r')\n",
    "plt.axvline(confidence_interval_20_90.iloc[1], color='r')"
   ]
  },
  {
   "cell_type": "markdown",
   "metadata": {},
   "source": [
    "---"
   ]
  },
  {
   "cell_type": "markdown",
   "metadata": {},
   "source": [
    "# Retirement Analysis\n",
    "\n",
    "In this section, you will use the monte carlo model to answer the following retirement planning questions:\n",
    "\n",
    "1. What are the expected cumulative returns at 30 years for the 10th, 50th, and 90th percentiles?\n",
    "2. Given an initial investment of `$20,000`, what is the expected portfolio return in dollars at the 10th, 50th, and 90th percentiles?\n",
    "3. Given the current projected annual income from the Plaid analysis, will a 4% withdraw rate from the retirement portfolio meet or exceed that value at the 10th percentile?\n",
    "4. How would a 50% increase in the initial investment amount affect the 4% retirement withdrawal?"
   ]
  },
  {
   "cell_type": "markdown",
   "metadata": {},
   "source": [
    "### What are the expected cumulative returns at 30 years for the 10th, 50th, and 90th percentiles?"
   ]
  },
  {
   "cell_type": "code",
   "execution_count": 47,
   "metadata": {
    "scrolled": true
   },
   "outputs": [
    {
     "name": "stdout",
     "output_type": "stream",
     "text": [
      "90 percent: 0.1    18.387231\n",
      "0.9    33.636546\n",
      "Name: 7560, dtype: float64\n",
      "\n",
      "50 percent: 0.5    24.988057\n",
      "0.5    24.988057\n",
      "Name: 7560, dtype: float64\n",
      "\n",
      "10 percent: 0.9    33.636546\n",
      "0.1    18.387231\n",
      "Name: 7560, dtype: float64\n",
      "\n"
     ]
    }
   ],
   "source": [
    "# YOUR CODE HERE\n",
    "confidence_interval_30_90 = thirtyYearProbability.quantile(q=[0.10, 0.90])\n",
    "confidence_interval_30_50 = thirtyYearProbability.quantile(q=[0.50, 0.50])\n",
    "confidence_interval_30_10 = thirtyYearProbability.quantile(q=[0.90, 0.10])\n",
    "\n",
    "print(f\"90 percent: {confidence_interval_30_90}\\n\")\n",
    "print(f\"50 percent: {confidence_interval_30_50}\\n\")\n",
    "print(f\"10 percent: {confidence_interval_30_10}\\n\")\n"
   ]
  },
  {
   "cell_type": "code",
   "execution_count": 48,
   "metadata": {},
   "outputs": [
    {
     "data": {
      "text/plain": [
       "<Figure size 432x288 with 0 Axes>"
      ]
     },
     "execution_count": 48,
     "metadata": {},
     "output_type": "execute_result"
    },
    {
     "data": {
      "image/png": "[encoded data removed]",
      "text/plain": [
       "<Figure size 432x288 with 1 Axes>"
      ]
     },
     "metadata": {
      "needs_background": "light"
     },
     "output_type": "display_data"
    },
    {
     "data": {
      "text/plain": [
       "<Figure size 432x288 with 0 Axes>"
      ]
     },
     "metadata": {},
     "output_type": "display_data"
    }
   ],
   "source": [
    "plt.axvline(confidence_interval_30_90.iloc[0], color='r')\n",
    "plt.axvline(confidence_interval_30_90.iloc[1], color='r')\n",
    "thirtyYearProbability.plot(kind='hist')\n",
    "plt.figure()\n",
    "#thirtyYearProbability.plot(kind='hist', density=True, bins=10)\n",
    "\n",
    "\n",
    "\n"
   ]
  },
  {
   "cell_type": "code",
   "execution_count": 49,
   "metadata": {},
   "outputs": [
    {
     "data": {
      "text/plain": [
       "<Figure size 432x288 with 0 Axes>"
      ]
     },
     "execution_count": 49,
     "metadata": {},
     "output_type": "execute_result"
    },
    {
     "data": {
      "image/png": "[encoded data removed]",
      "text/plain": [
       "<Figure size 432x288 with 1 Axes>"
      ]
     },
     "metadata": {
      "needs_background": "light"
     },
     "output_type": "display_data"
    },
    {
     "data": {
      "text/plain": [
       "<Figure size 432x288 with 0 Axes>"
      ]
     },
     "metadata": {},
     "output_type": "display_data"
    }
   ],
   "source": [
    "plt.axvline(confidence_interval_30_50.iloc[0], color='r')\n",
    "plt.axvline(confidence_interval_30_50.iloc[1], color='r')\n",
    "thirtyYearProbability.plot(kind='hist')\n",
    "plt.figure()\n",
    "#thirtyYearProbability.plot(kind='hist', density=True, bins=10)\n"
   ]
  },
  {
   "cell_type": "code",
   "execution_count": 50,
   "metadata": {},
   "outputs": [
    {
     "data": {
      "text/plain": [
       "<Figure size 432x288 with 0 Axes>"
      ]
     },
     "execution_count": 50,
     "metadata": {},
     "output_type": "execute_result"
    },
    {
     "data": {
      "image/png": "[encoded data removed]",
      "text/plain": [
       "<Figure size 432x288 with 1 Axes>"
      ]
     },
     "metadata": {
      "needs_background": "light"
     },
     "output_type": "display_data"
    },
    {
     "data": {
      "text/plain": [
       "<Figure size 432x288 with 0 Axes>"
      ]
     },
     "metadata": {},
     "output_type": "display_data"
    }
   ],
   "source": [
    "\n",
    "plt.axvline(confidence_interval_30_10.iloc[0], color='r')\n",
    "plt.axvline(confidence_interval_30_10.iloc[1], color='r')\n",
    "thirtyYearProbability.plot(kind='hist')\n",
    "plt.figure()"
   ]
  },
  {
   "cell_type": "markdown",
   "metadata": {},
   "source": [
    "### Given an initial investment of `$20,000`, what is the expected portfolio return in dollars at the 10th, 50th, and 90th percentiles?"
   ]
  },
  {
   "cell_type": "code",
   "execution_count": 51,
   "metadata": {},
   "outputs": [
    {
     "name": "stdout",
     "output_type": "stream",
     "text": [
      "90 + between 387744.61753264087 and 692730.9129559502\n",
      "50 + between 519761.1347067889 and 519761.1347067889\n",
      "10 + between 692730.9129559502 and 387744.61753264087\n"
     ]
    }
   ],
   "source": [
    "# YOUR CODE HERE\n",
    "\n",
    "\n",
    "lowerBnd_90 = 20_000 + (20_000 * confidence_interval_30_90.iloc[0])\n",
    "upperBnd_90 = 20_000 + (20_000 * confidence_interval_30_90.iloc[1])\n",
    "\n",
    "lowerBnd_50 = 20_000 + (20_000 * confidence_interval_30_50.iloc[0])\n",
    "upperBnd_50 = 20_000 + (20_000 * confidence_interval_30_50.iloc[1])\n",
    "\n",
    "lowerBnd_10 = 20_000 + (20_000 * confidence_interval_30_10.iloc[0])\n",
    "upperBnd_10 = 20_000 + (20_000 * confidence_interval_30_10.iloc[1])\n",
    "\n",
    "print(f\"90 + between {lowerBnd_90} and {upperBnd_90}\"  )\n",
    "print(f\"50 + between {lowerBnd_50} and {upperBnd_50}\"  )\n",
    "print(f\"10 + between {lowerBnd_10} and {upperBnd_10}\"  )\n",
    "\n",
    "# Calculate investment profit/loss of lower and upper bound cumulative portfolio returns\n"
   ]
  },
  {
   "cell_type": "markdown",
   "metadata": {},
   "source": [
    "### Given the current projected annual income from the Plaid analysis, will a 4% withdraw rate from the retirement portfolio meet or exceed that value at the 10th percentile?\n",
    "\n",
    "Note: This is effectively saying that 90% of the expected returns will be greater than the return at the 10th percentile, so this can help measure the uncertainty about having enough funds at retirement"
   ]
  },
  {
   "cell_type": "code",
   "execution_count": 52,
   "metadata": {},
   "outputs": [
    {
     "name": "stdout",
     "output_type": "stream",
     "text": [
      "the Plaid withdrawl will amount to 6085\n",
      "\n",
      "Based on our simulation, the 10% confidence interval shows 27709.24 withdrawal amount for our other portfolio\n",
      " \n"
     ]
    }
   ],
   "source": [
    "# YOUR CODE HERE\n",
    "\n",
    "plaidA = 6085\n",
    "initialInvestment = 20_000\n",
    "\n",
    "#print(f\"10 + between {lowerBnd_10} and {upperBnd_10}\" )\n",
    "portfolio4PercentWtthdrawlLower = lowerBnd_10 * .04\n",
    "portfolio4PercentWtthdrawlUpper = lowerBnd_10 * .04\n",
    "\n",
    "withDrawalAvg = (portfolio4PercentWtthdrawlLower + portfolio4PercentWtthdrawlUpper) / 2\n",
    "\n",
    "print(f\"the Plaid withdrawl will amount to {plaidA}\\n\")\n",
    "print(f\"Based on our simulation, the 10% confidence interval shows \"\n",
    "      f\"{round(withDrawalAvg,2)} withdrawal amount for our other portfolio\\n \")\n",
    "\n",
    "\n",
    "\n",
    "# 20,000"
   ]
  },
  {
   "cell_type": "markdown",
   "metadata": {},
   "source": [
    "### How would a 50% increase in the initial investment amount affect the 4% retirement withdrawal?"
   ]
  },
  {
   "cell_type": "code",
   "execution_count": 53,
   "metadata": {},
   "outputs": [
    {
     "name": "stdout",
     "output_type": "stream",
     "text": [
      "the Plaid withdrawl will amount to 6085\n",
      "\n",
      "After adding 10K, the 10% confidence interval shows 41563.85 withdrawal amount for our other portfolio\n",
      " \n"
     ]
    }
   ],
   "source": [
    "# YOUR CODE HERE\n",
    "plaidA = 6085\n",
    "initialInvestment2 = 20_000*1.5\n",
    "\n",
    "lowerBnd_10 = initialInvestment2 + (initialInvestment2 * confidence_interval_30_10.iloc[0])\n",
    "upperBnd_10 = initialInvestment2 + (initialInvestment2 * confidence_interval_30_10.iloc[1])\n",
    "#print(f\"10 + between {lowerBnd_10} and {upperBnd_10}\" )\n",
    "portfolio4PercentWtthdrawlLower2 = lowerBnd_10 * .04\n",
    "portfolio4PercentWtthdrawlUpper2 = lowerBnd_10 * .04\n",
    "\n",
    "withDrawalAvg2 = (portfolio4PercentWtthdrawlLower2 + portfolio4PercentWtthdrawlUpper2) / 2\n",
    "\n",
    "print(f\"the Plaid withdrawl will amount to {plaidA}\\n\")\n",
    "print(f\"After adding 10K, the 10% confidence interval shows \"\n",
    "      f\"{round(withDrawalAvg2,2)} withdrawal amount for our other portfolio\\n \")\n",
    "\n"
   ]
  },
  {
   "cell_type": "markdown",
   "metadata": {},
   "source": [
    "### Optional Challenge\n",
    "\n",
    "In this section, you will calculate and plot the cumulative returns for the median and 90% confidence intervals. This plot shows the expected cumulative returns for any given day between the first day and the last day of investment. "
   ]
  },
  {
   "cell_type": "code",
   "execution_count": 54,
   "metadata": {},
   "outputs": [],
   "source": [
    "# YOUR CODE HERE"
   ]
  },
  {
   "cell_type": "code",
   "execution_count": null,
   "metadata": {},
   "outputs": [],
   "source": []
  },
  {
   "cell_type": "code",
   "execution_count": null,
   "metadata": {},
   "outputs": [],
   "source": []
  }
 ],
 "metadata": {
  "kernel_info": {
   "name": "dev"
  },
  "kernelspec": {
   "display_name": "Python 3",
   "language": "python",
   "name": "python3"
  },
  "language_info": {
   "codemirror_mode": {
    "name": "ipython",
    "version": 3
   },
   "file_extension": ".py",
   "mimetype": "text/x-python",
   "name": "python",
   "nbconvert_exporter": "python",
   "pygments_lexer": "ipython3",
   "version": "3.7.3"
  },
  "nteract": {
   "version": "0.12.3"
  }
 },
 "nbformat": 4,
 "nbformat_minor": 4
}
