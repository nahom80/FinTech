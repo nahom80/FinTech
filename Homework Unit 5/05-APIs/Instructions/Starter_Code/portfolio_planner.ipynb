{
 "cells": [
  {
   "cell_type": "code",
   "execution_count": 92,
   "metadata": {
    "jupyter": {
     "outputs_hidden": true
    }
   },
   "outputs": [],
   "source": [
    "import numpy as np\n",
    "import pandas as pd\n",
    "from datetime import datetime, timedelta\n",
    "import matplotlib.pyplot as plt\n",
    "%matplotlib inline\n",
    "from pathlib import Path"
   ]
  },
  {
   "cell_type": "code",
   "execution_count": 93,
   "metadata": {},
   "outputs": [],
   "source": [
    "np.random.seed(42)"
   ]
  },
  {
   "cell_type": "markdown",
   "metadata": {},
   "source": [
    "# Portfolio Planner\n",
    "\n",
    "In this activity, you will use the iexfinance api to grab historical data for a 60/40 portfolio using `SPY` to represent the stock portion and `AGG` to represent the bonds."
   ]
  },
  {
   "cell_type": "code",
   "execution_count": 94,
   "metadata": {
    "jupyter": {
     "outputs_hidden": true
    }
   },
   "outputs": [],
   "source": [
    "from iexfinance.stocks import get_historical_data\n",
    "#from iexfinance.stocks import Stock\n",
    "import iexfinance as iex\n",
    "\n",
    "#DEBUG\n",
    "import os"
   ]
  },
  {
   "cell_type": "markdown",
   "metadata": {},
   "source": [
    "#http://finance.yahoo.com/q?s=AAPL"
   ]
  },
  {
   "cell_type": "markdown",
   "metadata": {},
   "source": [
    "# Data Collection\n",
    "\n",
    "In this step, you will need to use the IEX api to fetch closing prices for the `SPY` and `AGG` tickers. Save the results as a pandas DataFrame"
   ]
  },
  {
   "cell_type": "code",
   "execution_count": null,
   "metadata": {},
   "outputs": [],
   "source": []
  },
  {
   "cell_type": "code",
   "execution_count": 95,
   "metadata": {
    "jupyter": {
     "outputs_hidden": true
    },
    "scrolled": false
   },
   "outputs": [],
   "source": [
    "list_of_tickers = [\"SPY\", \"AGG\"]\n",
    "# YOUR CODE HERE\n",
    "\n",
    "# thought about writing an IF statement that checks for a 'pickled' filename. if it doesnt exist go through with the\n",
    "# IEXF call. if it does, just read the pickled file into a DF. this can be controlled by deleting the pickled file\n",
    "# instead of editing code.\n",
    "\n",
    "\n",
    "#######This is how i got the data initially\n",
    "#start = datetime(2018, 1, 1)\n",
    "#end = datetime(2018, 12, 31)\n",
    "#df = get_historical_data(list_of_tickers, start, end,output_format='pandas',close_only=True)\n",
    "\n",
    "\n",
    "######## WRITE TO PICKLE\n",
    "#df.to_hdf(\"SPYandAGG_2018Data.h5\", key='df')\n",
    "\n",
    "### READ FROM PICKLE to DF\n",
    "#unpickled_DF = pd.read_hdf('SPYandAGG_2018Data.h5', 'df')\n",
    "unpickled_DF = pd.read_hdf('SPYandAGG_Data.h5', 'df')\n",
    "\n",
    "\n",
    "###NOTES\n",
    "#df = get_historical_data(\"TSLA\", \"20190617\", close_only=True)"
   ]
  },
  {
   "cell_type": "code",
   "execution_count": 96,
   "metadata": {
    "scrolled": false
   },
   "outputs": [
    {
     "data": {
      "text/plain": [
       "<bound method NDFrame.pct_change of date\n",
       "2017-01-03    225.24\n",
       "2017-01-04    226.58\n",
       "2017-01-05    226.40\n",
       "2017-01-06    227.21\n",
       "2017-01-09    226.46\n",
       "               ...  \n",
       "2017-12-22    267.51\n",
       "2017-12-26    267.19\n",
       "2017-12-27    267.32\n",
       "2017-12-28    267.87\n",
       "2017-12-29    266.86\n",
       "Name: close, Length: 251, dtype: float64>"
      ]
     },
     "execution_count": 96,
     "metadata": {},
     "output_type": "execute_result"
    }
   ],
   "source": [
    "unpickled_DF\n",
    "\n",
    "SPYcloseDF = unpickled_DF['SPY']['close']\n",
    "AGGcloseDF = unpickled_DF['AGG']['close']\n",
    "\n",
    "#SPYdaily = (SPYcloseDF  - SPYcloseDF.shift(1)) / SPYcloseDF.shift(1)\n",
    "#AGGdaily = (AGGcloseDF  - AGGcloseDF.shift(1)) / AGGcloseDF.shift(1)\n",
    "AGGdaily = AGGcloseDF.pct_change\n",
    "SPYdaily = SPYcloseDF.pct_change\n",
    "\n",
    "SPYdaily"
   ]
  },
  {
   "cell_type": "code",
   "execution_count": 97,
   "metadata": {},
   "outputs": [
    {
     "data": {
      "text/html": [
       "<div>\n",
       "<style scoped>\n",
       "    .dataframe tbody tr th:only-of-type {\n",
       "        vertical-align: middle;\n",
       "    }\n",
       "\n",
       "    .dataframe tbody tr th {\n",
       "        vertical-align: top;\n",
       "    }\n",
       "\n",
       "    .dataframe thead tr th {\n",
       "        text-align: left;\n",
       "    }\n",
       "\n",
       "    .dataframe thead tr:last-of-type th {\n",
       "        text-align: right;\n",
       "    }\n",
       "</style>\n",
       "<table border=\"1\" class=\"dataframe\">\n",
       "  <thead>\n",
       "    <tr>\n",
       "      <th></th>\n",
       "      <th colspan=\"5\" halign=\"left\">SPY</th>\n",
       "      <th colspan=\"5\" halign=\"left\">AGG</th>\n",
       "    </tr>\n",
       "    <tr>\n",
       "      <th></th>\n",
       "      <th>open</th>\n",
       "      <th>high</th>\n",
       "      <th>low</th>\n",
       "      <th>close</th>\n",
       "      <th>volume</th>\n",
       "      <th>open</th>\n",
       "      <th>high</th>\n",
       "      <th>low</th>\n",
       "      <th>close</th>\n",
       "      <th>volume</th>\n",
       "    </tr>\n",
       "    <tr>\n",
       "      <th>date</th>\n",
       "      <th></th>\n",
       "      <th></th>\n",
       "      <th></th>\n",
       "      <th></th>\n",
       "      <th></th>\n",
       "      <th></th>\n",
       "      <th></th>\n",
       "      <th></th>\n",
       "      <th></th>\n",
       "      <th></th>\n",
       "    </tr>\n",
       "  </thead>\n",
       "  <tbody>\n",
       "    <tr>\n",
       "      <th>2017-01-03</th>\n",
       "      <td>225.04</td>\n",
       "      <td>225.83</td>\n",
       "      <td>223.88</td>\n",
       "      <td>225.24</td>\n",
       "      <td>91366522</td>\n",
       "      <td>107.73</td>\n",
       "      <td>108.22</td>\n",
       "      <td>107.73</td>\n",
       "      <td>108.17</td>\n",
       "      <td>5079339</td>\n",
       "    </tr>\n",
       "    <tr>\n",
       "      <th>2017-01-04</th>\n",
       "      <td>225.62</td>\n",
       "      <td>226.75</td>\n",
       "      <td>225.61</td>\n",
       "      <td>226.58</td>\n",
       "      <td>78744433</td>\n",
       "      <td>108.16</td>\n",
       "      <td>108.21</td>\n",
       "      <td>108.03</td>\n",
       "      <td>108.20</td>\n",
       "      <td>3297075</td>\n",
       "    </tr>\n",
       "    <tr>\n",
       "      <th>2017-01-05</th>\n",
       "      <td>226.27</td>\n",
       "      <td>226.58</td>\n",
       "      <td>225.48</td>\n",
       "      <td>226.40</td>\n",
       "      <td>78379012</td>\n",
       "      <td>108.37</td>\n",
       "      <td>108.68</td>\n",
       "      <td>108.22</td>\n",
       "      <td>108.65</td>\n",
       "      <td>5165933</td>\n",
       "    </tr>\n",
       "    <tr>\n",
       "      <th>2017-01-06</th>\n",
       "      <td>226.53</td>\n",
       "      <td>227.75</td>\n",
       "      <td>225.90</td>\n",
       "      <td>227.21</td>\n",
       "      <td>71559922</td>\n",
       "      <td>108.43</td>\n",
       "      <td>108.50</td>\n",
       "      <td>108.26</td>\n",
       "      <td>108.29</td>\n",
       "      <td>2910119</td>\n",
       "    </tr>\n",
       "    <tr>\n",
       "      <th>2017-01-09</th>\n",
       "      <td>226.91</td>\n",
       "      <td>227.07</td>\n",
       "      <td>226.42</td>\n",
       "      <td>226.46</td>\n",
       "      <td>46939676</td>\n",
       "      <td>108.54</td>\n",
       "      <td>108.54</td>\n",
       "      <td>108.43</td>\n",
       "      <td>108.47</td>\n",
       "      <td>3030497</td>\n",
       "    </tr>\n",
       "    <tr>\n",
       "      <th>...</th>\n",
       "      <td>...</td>\n",
       "      <td>...</td>\n",
       "      <td>...</td>\n",
       "      <td>...</td>\n",
       "      <td>...</td>\n",
       "      <td>...</td>\n",
       "      <td>...</td>\n",
       "      <td>...</td>\n",
       "      <td>...</td>\n",
       "      <td>...</td>\n",
       "    </tr>\n",
       "    <tr>\n",
       "      <th>2017-12-22</th>\n",
       "      <td>267.60</td>\n",
       "      <td>267.64</td>\n",
       "      <td>266.90</td>\n",
       "      <td>267.51</td>\n",
       "      <td>78720873</td>\n",
       "      <td>108.82</td>\n",
       "      <td>108.89</td>\n",
       "      <td>108.81</td>\n",
       "      <td>108.87</td>\n",
       "      <td>3292848</td>\n",
       "    </tr>\n",
       "    <tr>\n",
       "      <th>2017-12-26</th>\n",
       "      <td>267.05</td>\n",
       "      <td>267.44</td>\n",
       "      <td>266.89</td>\n",
       "      <td>267.19</td>\n",
       "      <td>45244433</td>\n",
       "      <td>108.91</td>\n",
       "      <td>109.01</td>\n",
       "      <td>108.87</td>\n",
       "      <td>108.96</td>\n",
       "      <td>1873401</td>\n",
       "    </tr>\n",
       "    <tr>\n",
       "      <th>2017-12-27</th>\n",
       "      <td>267.38</td>\n",
       "      <td>267.73</td>\n",
       "      <td>267.01</td>\n",
       "      <td>267.32</td>\n",
       "      <td>57750986</td>\n",
       "      <td>109.02</td>\n",
       "      <td>109.33</td>\n",
       "      <td>109.02</td>\n",
       "      <td>109.30</td>\n",
       "      <td>2046950</td>\n",
       "    </tr>\n",
       "    <tr>\n",
       "      <th>2017-12-28</th>\n",
       "      <td>267.89</td>\n",
       "      <td>267.92</td>\n",
       "      <td>267.45</td>\n",
       "      <td>267.87</td>\n",
       "      <td>45116139</td>\n",
       "      <td>109.22</td>\n",
       "      <td>109.26</td>\n",
       "      <td>109.14</td>\n",
       "      <td>109.22</td>\n",
       "      <td>2895441</td>\n",
       "    </tr>\n",
       "    <tr>\n",
       "      <th>2017-12-29</th>\n",
       "      <td>268.53</td>\n",
       "      <td>268.55</td>\n",
       "      <td>266.64</td>\n",
       "      <td>266.86</td>\n",
       "      <td>96007424</td>\n",
       "      <td>109.28</td>\n",
       "      <td>109.39</td>\n",
       "      <td>109.24</td>\n",
       "      <td>109.33</td>\n",
       "      <td>2813359</td>\n",
       "    </tr>\n",
       "  </tbody>\n",
       "</table>\n",
       "<p>251 rows × 10 columns</p>\n",
       "</div>"
      ],
      "text/plain": [
       "               SPY                                       AGG                  \\\n",
       "              open    high     low   close    volume    open    high     low   \n",
       "date                                                                           \n",
       "2017-01-03  225.04  225.83  223.88  225.24  91366522  107.73  108.22  107.73   \n",
       "2017-01-04  225.62  226.75  225.61  226.58  78744433  108.16  108.21  108.03   \n",
       "2017-01-05  226.27  226.58  225.48  226.40  78379012  108.37  108.68  108.22   \n",
       "2017-01-06  226.53  227.75  225.90  227.21  71559922  108.43  108.50  108.26   \n",
       "2017-01-09  226.91  227.07  226.42  226.46  46939676  108.54  108.54  108.43   \n",
       "...            ...     ...     ...     ...       ...     ...     ...     ...   \n",
       "2017-12-22  267.60  267.64  266.90  267.51  78720873  108.82  108.89  108.81   \n",
       "2017-12-26  267.05  267.44  266.89  267.19  45244433  108.91  109.01  108.87   \n",
       "2017-12-27  267.38  267.73  267.01  267.32  57750986  109.02  109.33  109.02   \n",
       "2017-12-28  267.89  267.92  267.45  267.87  45116139  109.22  109.26  109.14   \n",
       "2017-12-29  268.53  268.55  266.64  266.86  96007424  109.28  109.39  109.24   \n",
       "\n",
       "                             \n",
       "             close   volume  \n",
       "date                         \n",
       "2017-01-03  108.17  5079339  \n",
       "2017-01-04  108.20  3297075  \n",
       "2017-01-05  108.65  5165933  \n",
       "2017-01-06  108.29  2910119  \n",
       "2017-01-09  108.47  3030497  \n",
       "...            ...      ...  \n",
       "2017-12-22  108.87  3292848  \n",
       "2017-12-26  108.96  1873401  \n",
       "2017-12-27  109.30  2046950  \n",
       "2017-12-28  109.22  2895441  \n",
       "2017-12-29  109.33  2813359  \n",
       "\n",
       "[251 rows x 10 columns]"
      ]
     },
     "execution_count": 97,
     "metadata": {},
     "output_type": "execute_result"
    }
   ],
   "source": [
    "unpickled_DF"
   ]
  },
  {
   "cell_type": "markdown",
   "metadata": {},
   "source": [
    "# Monte Carlo Simulation\n",
    "\n",
    "In this step, you will run Monte Carlo Simulations for your portfolio to model portfolio performance at different retirement ages. \n",
    "\n",
    "Complete the following steps:\n",
    "1. Calculate the daily returns for the SPY and AGG closing prices.\n",
    "2. Calculate volatility for both the SPY and AGG closing prices.\n",
    "3. Find the last day's closing price for both stocks and save those as variables.\n",
    "4. Run a Monte Carlo Simulation of at least 500 iterations and generate at least 30 years of closing prices\n",
    "\n",
    "### HINTS:\n",
    "There are 252 trading days per year, so the number of records to generate for each Monte Carlo run will be 252 days * 30 years"
   ]
  },
  {
   "cell_type": "code",
   "execution_count": 98,
   "metadata": {},
   "outputs": [
    {
     "name": "stdout",
     "output_type": "stream",
     "text": [
      "SPY Dailies:\n",
      " date\n",
      "2017-01-03         NaN\n",
      "2017-01-04    0.005949\n",
      "2017-01-05   -0.000794\n",
      "2017-01-06    0.003578\n",
      "2017-01-09   -0.003301\n",
      "Name: close, dtype: float64\n",
      "\n",
      "AGG Dailies:\n",
      " date\n",
      "2017-01-03         NaN\n",
      "2017-01-04    0.000277\n",
      "2017-01-05    0.004159\n",
      "2017-01-06   -0.003313\n",
      "2017-01-09    0.001662\n",
      "Name: close, dtype: float64\n",
      "\n"
     ]
    }
   ],
   "source": [
    "# Calculate the daily roi for the stocks\n",
    "# YOUR CODE HERE\n",
    "\n",
    "SPYcloseDF = unpickled_DF['SPY']['close']\n",
    "AGGcloseDF = unpickled_DF['AGG']['close']\n",
    "\n",
    "SPYdaily = (SPYcloseDF  - SPYcloseDF.shift(1)) / SPYcloseDF.shift(1)\n",
    "AGGdaily = (AGGcloseDF  - AGGcloseDF.shift(1)) / AGGcloseDF.shift(1)\n",
    "\n",
    "print(f\"SPY Dailies:\\n {SPYdaily.head()}\\n\")\n",
    "print(f\"AGG Dailies:\\n {AGGdaily.head()}\\n\")\n",
    "\n"
   ]
  },
  {
   "cell_type": "code",
   "execution_count": null,
   "metadata": {},
   "outputs": [],
   "source": []
  },
  {
   "cell_type": "code",
   "execution_count": 99,
   "metadata": {
    "jupyter": {
     "outputs_hidden": true
    }
   },
   "outputs": [
    {
     "name": "stdout",
     "output_type": "stream",
     "text": [
      "SPY Voli:\n",
      " 0.0042511062695797745\n",
      "\n",
      "AGG Voli:\n",
      " 0.0018105053253493384\n",
      "\n"
     ]
    }
   ],
   "source": [
    "# Calculate volatility\n",
    "# YOUR CODE HERE\n",
    "\n",
    "SPYvoli = SPYdaily.std()# * np.sqrt(252)\n",
    "AGGvoli = AGGdaily.std()# * np.sqrt(252)\n",
    "\n",
    "print(f\"SPY Voli:\\n {SPYvoli}\\n\")\n",
    "print(f\"AGG Voli:\\n {AGGvoli}\\n\")"
   ]
  },
  {
   "cell_type": "code",
   "execution_count": 100,
   "metadata": {
    "jupyter": {
     "outputs_hidden": true
    },
    "scrolled": true
   },
   "outputs": [
    {
     "name": "stdout",
     "output_type": "stream",
     "text": [
      "0.0006874651726549415\n",
      "0.0042511062695797745\n"
     ]
    },
    {
     "data": {
      "text/plain": [
       "date\n",
       "2017-01-03    225.24\n",
       "2017-01-04    226.58\n",
       "2017-01-05    226.40\n",
       "2017-01-06    227.21\n",
       "2017-01-09    226.46\n",
       "               ...  \n",
       "2017-12-22    267.51\n",
       "2017-12-26    267.19\n",
       "2017-12-27    267.32\n",
       "2017-12-28    267.87\n",
       "2017-12-29    266.86\n",
       "Name: close, Length: 251, dtype: float64"
      ]
     },
     "execution_count": 100,
     "metadata": {},
     "output_type": "execute_result"
    }
   ],
   "source": [
    "# Save the last day's closing price\n",
    "LastdaySPY = SPYcloseDF[-1]\n",
    "LastdayAGG = AGGcloseDF[-1]\n",
    "\n",
    "#For clarity in monteCarlo\n",
    "SPY_simPrices = [LastdaySPY]\n",
    "AGG_simPrices = [LastdayAGG]\n",
    "\n",
    "\n",
    "AGG_adr = AGGdaily.mean()\n",
    "SPY_adr = SPYdaily.mean()\n",
    "\n",
    "print(SPY_adr)\n",
    "print(SPYdaily.std())\n",
    "SPYcloseDF"
   ]
  },
  {
   "cell_type": "code",
   "execution_count": 101,
   "metadata": {
    "jupyter": {
     "outputs_hidden": true
    },
    "scrolled": false
   },
   "outputs": [],
   "source": [
    "# Setup the Monte Carlo Parameters\n",
    "number_simulations = 500\n",
    "number_records = 252 * 30\n",
    "monte_carlo = pd.DataFrame()\n",
    "portfolio_cumulative_returns = pd.DataFrame()\n",
    "\n",
    "#####DEBUG TEST\n",
    "#number_simulations = 10\n",
    "#number_records = 252 * 30\n",
    "\n",
    "### randos\n",
    "#randomArray = np.random.random([1,3_780_000])\n",
    "\n",
    "#myflot = randomArray[0][1]\n",
    "#myflot\n",
    "#type(1+np.random.normal(1,2))\n",
    "\n",
    "SPYnumArray = (1 + np.random.normal(SPY_adr, SPYdaily.std(),3_800_000))\n",
    "AGGnumArray = (1 + np.random.normal(AGG_adr, AGGdaily.std(),3_800_000))\n",
    "\n",
    "#SPYnumArray[:100]\n",
    "\n",
    "#(1 + np.random.normal(avg_daily_return, std_dev_daily_return)\n",
    "\n",
    "#(np.random.normal(AGG_adr, AGGdaily.std(),300)).min()"
   ]
  },
  {
   "cell_type": "code",
   "execution_count": 102,
   "metadata": {},
   "outputs": [],
   "source": [
    "#1 + np.random.normal(AGG_adr, AGGdaily.std(),100)\n",
    "\n",
    "#SPYdaily.std()"
   ]
  },
  {
   "cell_type": "code",
   "execution_count": 103,
   "metadata": {},
   "outputs": [],
   "source": [
    "# Run the Monte Carlo Simulation\n",
    "randItr = 0\n",
    "\n",
    "for x in range(number_simulations):\n",
    "    \n",
    "    # YOUR CODE HERE\n",
    "    \n",
    "    SPYsimPriceList = [LastdaySPY]\n",
    "    AGGsimPriceList = [LastdayAGG]\n",
    "    #print(x)\n",
    "    for i in range(number_records):\n",
    "        SPY_currSim = SPYsimPriceList[-1] * SPYnumArray[randItr]\n",
    "        AGG_currSim = AGGsimPriceList[-1] * AGGnumArray[randItr]\n",
    "        \n",
    "        #Append the simulated price to the list\n",
    "        SPYsimPriceList.append(SPY_currSim)\n",
    "        AGGsimPriceList.append(AGG_currSim)\n",
    "        randItr += 1\n",
    "    ###### END INNER LOOP\n",
    "    \n",
    "    monte_carlo[\"SPY prices\"] = pd.Series(SPYsimPriceList)\n",
    "    monte_carlo[\"AGG prices\"] = pd.Series(AGGsimPriceList)\n",
    "    \n",
    "    SimDR = monte_carlo.pct_change()\n",
    "\n",
    "    \n",
    "    weights = [0.5, 0.5]\n",
    "    SimDRweighted = SimDR.dot(weights)\n",
    "    portfolio_cumulative_returns[x] = (1 + SimDRweighted.fillna(0)).cumprod()\n",
    "    \n",
    "    \n",
    "#len(SPYsimPriceList)\n",
    "\n",
    "#SPYsimulated_df = pd.DataFrame({\"Simulated SPY Prices\": SPYsimPriceList})\n",
    "#AGGsimulated_df = pd.DataFrame({\"Simulated AGG Prices\": AGGsimPriceList})\n",
    "\n"
   ]
  },
  {
   "cell_type": "code",
   "execution_count": 104,
   "metadata": {
    "scrolled": true
   },
   "outputs": [
    {
     "data": {
      "text/html": [
       "<div>\n",
       "<style scoped>\n",
       "    .dataframe tbody tr th:only-of-type {\n",
       "        vertical-align: middle;\n",
       "    }\n",
       "\n",
       "    .dataframe tbody tr th {\n",
       "        vertical-align: top;\n",
       "    }\n",
       "\n",
       "    .dataframe thead th {\n",
       "        text-align: right;\n",
       "    }\n",
       "</style>\n",
       "<table border=\"1\" class=\"dataframe\">\n",
       "  <thead>\n",
       "    <tr style=\"text-align: right;\">\n",
       "      <th></th>\n",
       "      <th>0</th>\n",
       "      <th>1</th>\n",
       "      <th>2</th>\n",
       "      <th>3</th>\n",
       "      <th>4</th>\n",
       "      <th>5</th>\n",
       "      <th>6</th>\n",
       "      <th>7</th>\n",
       "      <th>8</th>\n",
       "      <th>9</th>\n",
       "      <th>...</th>\n",
       "      <th>490</th>\n",
       "      <th>491</th>\n",
       "      <th>492</th>\n",
       "      <th>493</th>\n",
       "      <th>494</th>\n",
       "      <th>495</th>\n",
       "      <th>496</th>\n",
       "      <th>497</th>\n",
       "      <th>498</th>\n",
       "      <th>499</th>\n",
       "    </tr>\n",
       "  </thead>\n",
       "  <tbody>\n",
       "    <tr>\n",
       "      <th>7556</th>\n",
       "      <td>13.156293</td>\n",
       "      <td>20.994921</td>\n",
       "      <td>17.613420</td>\n",
       "      <td>13.523307</td>\n",
       "      <td>11.845658</td>\n",
       "      <td>21.437774</td>\n",
       "      <td>13.612364</td>\n",
       "      <td>14.992472</td>\n",
       "      <td>19.552406</td>\n",
       "      <td>15.000431</td>\n",
       "      <td>...</td>\n",
       "      <td>13.830658</td>\n",
       "      <td>13.617699</td>\n",
       "      <td>23.486227</td>\n",
       "      <td>12.557552</td>\n",
       "      <td>14.050589</td>\n",
       "      <td>13.331960</td>\n",
       "      <td>13.139462</td>\n",
       "      <td>15.896584</td>\n",
       "      <td>19.865435</td>\n",
       "      <td>19.881287</td>\n",
       "    </tr>\n",
       "    <tr>\n",
       "      <th>7557</th>\n",
       "      <td>13.200113</td>\n",
       "      <td>21.013114</td>\n",
       "      <td>17.626138</td>\n",
       "      <td>13.564632</td>\n",
       "      <td>11.804556</td>\n",
       "      <td>21.460308</td>\n",
       "      <td>13.638929</td>\n",
       "      <td>14.986692</td>\n",
       "      <td>19.561331</td>\n",
       "      <td>14.972279</td>\n",
       "      <td>...</td>\n",
       "      <td>13.906908</td>\n",
       "      <td>13.663138</td>\n",
       "      <td>23.433268</td>\n",
       "      <td>12.546806</td>\n",
       "      <td>14.048544</td>\n",
       "      <td>13.336082</td>\n",
       "      <td>13.140950</td>\n",
       "      <td>15.893686</td>\n",
       "      <td>19.874629</td>\n",
       "      <td>19.982887</td>\n",
       "    </tr>\n",
       "    <tr>\n",
       "      <th>7558</th>\n",
       "      <td>13.210123</td>\n",
       "      <td>21.007303</td>\n",
       "      <td>17.635378</td>\n",
       "      <td>13.593324</td>\n",
       "      <td>11.733253</td>\n",
       "      <td>21.500272</td>\n",
       "      <td>13.612938</td>\n",
       "      <td>14.984899</td>\n",
       "      <td>19.519585</td>\n",
       "      <td>15.024268</td>\n",
       "      <td>...</td>\n",
       "      <td>13.924213</td>\n",
       "      <td>13.677392</td>\n",
       "      <td>23.429293</td>\n",
       "      <td>12.588972</td>\n",
       "      <td>14.108018</td>\n",
       "      <td>13.354391</td>\n",
       "      <td>13.151232</td>\n",
       "      <td>15.873573</td>\n",
       "      <td>19.915582</td>\n",
       "      <td>20.001195</td>\n",
       "    </tr>\n",
       "    <tr>\n",
       "      <th>7559</th>\n",
       "      <td>13.211173</td>\n",
       "      <td>20.966956</td>\n",
       "      <td>17.604343</td>\n",
       "      <td>13.599491</td>\n",
       "      <td>11.717207</td>\n",
       "      <td>21.565918</td>\n",
       "      <td>13.632038</td>\n",
       "      <td>14.972029</td>\n",
       "      <td>19.464058</td>\n",
       "      <td>15.049826</td>\n",
       "      <td>...</td>\n",
       "      <td>13.940848</td>\n",
       "      <td>13.699797</td>\n",
       "      <td>23.450937</td>\n",
       "      <td>12.581600</td>\n",
       "      <td>14.140558</td>\n",
       "      <td>13.378280</td>\n",
       "      <td>13.085297</td>\n",
       "      <td>15.865929</td>\n",
       "      <td>19.901123</td>\n",
       "      <td>20.003372</td>\n",
       "    </tr>\n",
       "    <tr>\n",
       "      <th>7560</th>\n",
       "      <td>13.210970</td>\n",
       "      <td>21.106949</td>\n",
       "      <td>17.568853</td>\n",
       "      <td>13.618719</td>\n",
       "      <td>11.726407</td>\n",
       "      <td>21.617886</td>\n",
       "      <td>13.700833</td>\n",
       "      <td>15.006293</td>\n",
       "      <td>19.525647</td>\n",
       "      <td>15.069130</td>\n",
       "      <td>...</td>\n",
       "      <td>13.936848</td>\n",
       "      <td>13.740502</td>\n",
       "      <td>23.501511</td>\n",
       "      <td>12.579554</td>\n",
       "      <td>14.136623</td>\n",
       "      <td>13.370051</td>\n",
       "      <td>13.042887</td>\n",
       "      <td>15.909368</td>\n",
       "      <td>19.861608</td>\n",
       "      <td>20.012012</td>\n",
       "    </tr>\n",
       "  </tbody>\n",
       "</table>\n",
       "<p>5 rows × 500 columns</p>\n",
       "</div>"
      ],
      "text/plain": [
       "            0          1          2          3          4          5    \\\n",
       "7556  13.156293  20.994921  17.613420  13.523307  11.845658  21.437774   \n",
       "7557  13.200113  21.013114  17.626138  13.564632  11.804556  21.460308   \n",
       "7558  13.210123  21.007303  17.635378  13.593324  11.733253  21.500272   \n",
       "7559  13.211173  20.966956  17.604343  13.599491  11.717207  21.565918   \n",
       "7560  13.210970  21.106949  17.568853  13.618719  11.726407  21.617886   \n",
       "\n",
       "            6          7          8          9    ...        490        491  \\\n",
       "7556  13.612364  14.992472  19.552406  15.000431  ...  13.830658  13.617699   \n",
       "7557  13.638929  14.986692  19.561331  14.972279  ...  13.906908  13.663138   \n",
       "7558  13.612938  14.984899  19.519585  15.024268  ...  13.924213  13.677392   \n",
       "7559  13.632038  14.972029  19.464058  15.049826  ...  13.940848  13.699797   \n",
       "7560  13.700833  15.006293  19.525647  15.069130  ...  13.936848  13.740502   \n",
       "\n",
       "            492        493        494        495        496        497  \\\n",
       "7556  23.486227  12.557552  14.050589  13.331960  13.139462  15.896584   \n",
       "7557  23.433268  12.546806  14.048544  13.336082  13.140950  15.893686   \n",
       "7558  23.429293  12.588972  14.108018  13.354391  13.151232  15.873573   \n",
       "7559  23.450937  12.581600  14.140558  13.378280  13.085297  15.865929   \n",
       "7560  23.501511  12.579554  14.136623  13.370051  13.042887  15.909368   \n",
       "\n",
       "            498        499  \n",
       "7556  19.865435  19.881287  \n",
       "7557  19.874629  19.982887  \n",
       "7558  19.915582  20.001195  \n",
       "7559  19.901123  20.003372  \n",
       "7560  19.861608  20.012012  \n",
       "\n",
       "[5 rows x 500 columns]"
      ]
     },
     "execution_count": 104,
     "metadata": {},
     "output_type": "execute_result"
    }
   ],
   "source": [
    "\n",
    "\n",
    "# Print records from the DataFrame\n",
    "portfolio_cumulative_returns.tail()"
   ]
  },
  {
   "cell_type": "code",
   "execution_count": 105,
   "metadata": {
    "scrolled": true
   },
   "outputs": [
    {
     "data": {
      "text/plain": [
       "<matplotlib.axes._subplots.AxesSubplot at 0x13f92a7c400>"
      ]
     },
     "execution_count": 105,
     "metadata": {},
     "output_type": "execute_result"
    },
    {
     "data": {
      "image/png": "[encoded data removed]",
      "text/plain": [
       "<Figure size 1008x504 with 1 Axes>"
      ]
     },
     "metadata": {
      "needs_background": "light"
     },
     "output_type": "display_data"
    }
   ],
   "source": [
    "# Visualize the Simulation\n",
    "# YOUR CODE HERE\n",
    "plot_title = f\"{x+1} Simulations of Cumulative Portfolio Return \"\n",
    "portfolio_cumulative_returns.plot(legend=None, title=plot_title,figsize=(14,7))"
   ]
  },
  {
   "cell_type": "code",
   "execution_count": 106,
   "metadata": {
    "scrolled": false
   },
   "outputs": [
    {
     "name": "stdout",
     "output_type": "stream",
     "text": [
      "0      13.210970\n",
      "1      21.106949\n",
      "2      17.568853\n",
      "3      13.618719\n",
      "4      11.726407\n",
      "         ...    \n",
      "495    13.370051\n",
      "496    13.042887\n",
      "497    15.909368\n",
      "498    19.861608\n",
      "499    20.012012\n",
      "Name: 7560, Length: 500, dtype: float64\n"
     ]
    }
   ],
   "source": [
    "# Select the last row for the cumulative returns (cumulative returns at 30 years)\n",
    "#simulated cumlative ret\n",
    "thirtyYearProbability = portfolio_cumulative_returns.iloc[-1, :]\n",
    "print(thirtyYearProbability)\n"
   ]
  },
  {
   "cell_type": "code",
   "execution_count": 107,
   "metadata": {},
   "outputs": [
    {
     "data": {
      "text/html": [
       "<div>\n",
       "<style scoped>\n",
       "    .dataframe tbody tr th:only-of-type {\n",
       "        vertical-align: middle;\n",
       "    }\n",
       "\n",
       "    .dataframe tbody tr th {\n",
       "        vertical-align: top;\n",
       "    }\n",
       "\n",
       "    .dataframe thead th {\n",
       "        text-align: right;\n",
       "    }\n",
       "</style>\n",
       "<table border=\"1\" class=\"dataframe\">\n",
       "  <thead>\n",
       "    <tr style=\"text-align: right;\">\n",
       "      <th></th>\n",
       "      <th>0</th>\n",
       "      <th>1</th>\n",
       "      <th>2</th>\n",
       "      <th>3</th>\n",
       "      <th>4</th>\n",
       "      <th>5</th>\n",
       "      <th>6</th>\n",
       "      <th>7</th>\n",
       "      <th>8</th>\n",
       "      <th>9</th>\n",
       "      <th>...</th>\n",
       "      <th>490</th>\n",
       "      <th>491</th>\n",
       "      <th>492</th>\n",
       "      <th>493</th>\n",
       "      <th>494</th>\n",
       "      <th>495</th>\n",
       "      <th>496</th>\n",
       "      <th>497</th>\n",
       "      <th>498</th>\n",
       "      <th>499</th>\n",
       "    </tr>\n",
       "  </thead>\n",
       "  <tbody>\n",
       "    <tr>\n",
       "      <th>0</th>\n",
       "      <td>1.000000</td>\n",
       "      <td>1.000000</td>\n",
       "      <td>1.000000</td>\n",
       "      <td>1.000000</td>\n",
       "      <td>1.000000</td>\n",
       "      <td>1.000000</td>\n",
       "      <td>1.000000</td>\n",
       "      <td>1.000000</td>\n",
       "      <td>1.000000</td>\n",
       "      <td>1.000000</td>\n",
       "      <td>...</td>\n",
       "      <td>1.000000</td>\n",
       "      <td>1.000000</td>\n",
       "      <td>1.000000</td>\n",
       "      <td>1.000000</td>\n",
       "      <td>1.000000</td>\n",
       "      <td>1.000000</td>\n",
       "      <td>1.000000</td>\n",
       "      <td>1.000000</td>\n",
       "      <td>1.000000</td>\n",
       "      <td>1.000000</td>\n",
       "    </tr>\n",
       "    <tr>\n",
       "      <th>1</th>\n",
       "      <td>1.002417</td>\n",
       "      <td>0.998028</td>\n",
       "      <td>0.997839</td>\n",
       "      <td>0.995841</td>\n",
       "      <td>0.997926</td>\n",
       "      <td>0.999810</td>\n",
       "      <td>1.001161</td>\n",
       "      <td>0.995750</td>\n",
       "      <td>1.001520</td>\n",
       "      <td>1.001773</td>\n",
       "      <td>...</td>\n",
       "      <td>0.998831</td>\n",
       "      <td>1.002301</td>\n",
       "      <td>0.999536</td>\n",
       "      <td>1.000382</td>\n",
       "      <td>1.000945</td>\n",
       "      <td>0.998708</td>\n",
       "      <td>0.999054</td>\n",
       "      <td>1.004193</td>\n",
       "      <td>0.998388</td>\n",
       "      <td>1.002707</td>\n",
       "    </tr>\n",
       "    <tr>\n",
       "      <th>2</th>\n",
       "      <td>1.002056</td>\n",
       "      <td>0.996429</td>\n",
       "      <td>0.997561</td>\n",
       "      <td>0.994761</td>\n",
       "      <td>0.997474</td>\n",
       "      <td>0.998980</td>\n",
       "      <td>1.003782</td>\n",
       "      <td>0.995392</td>\n",
       "      <td>1.007347</td>\n",
       "      <td>1.002916</td>\n",
       "      <td>...</td>\n",
       "      <td>0.995915</td>\n",
       "      <td>1.000697</td>\n",
       "      <td>0.999460</td>\n",
       "      <td>1.003515</td>\n",
       "      <td>1.004452</td>\n",
       "      <td>0.998585</td>\n",
       "      <td>1.003360</td>\n",
       "      <td>1.002873</td>\n",
       "      <td>0.998254</td>\n",
       "      <td>1.006221</td>\n",
       "    </tr>\n",
       "    <tr>\n",
       "      <th>3</th>\n",
       "      <td>1.005161</td>\n",
       "      <td>0.999490</td>\n",
       "      <td>0.998011</td>\n",
       "      <td>0.993423</td>\n",
       "      <td>0.997065</td>\n",
       "      <td>0.995483</td>\n",
       "      <td>1.004899</td>\n",
       "      <td>0.993373</td>\n",
       "      <td>1.010154</td>\n",
       "      <td>1.002836</td>\n",
       "      <td>...</td>\n",
       "      <td>0.998320</td>\n",
       "      <td>1.001249</td>\n",
       "      <td>1.001414</td>\n",
       "      <td>1.001034</td>\n",
       "      <td>1.002515</td>\n",
       "      <td>0.997489</td>\n",
       "      <td>1.002986</td>\n",
       "      <td>1.002223</td>\n",
       "      <td>1.000314</td>\n",
       "      <td>1.009838</td>\n",
       "    </tr>\n",
       "    <tr>\n",
       "      <th>4</th>\n",
       "      <td>1.007330</td>\n",
       "      <td>1.001471</td>\n",
       "      <td>0.999706</td>\n",
       "      <td>0.994279</td>\n",
       "      <td>0.999637</td>\n",
       "      <td>0.990942</td>\n",
       "      <td>0.999761</td>\n",
       "      <td>0.995298</td>\n",
       "      <td>1.008202</td>\n",
       "      <td>1.006393</td>\n",
       "      <td>...</td>\n",
       "      <td>0.998317</td>\n",
       "      <td>1.001226</td>\n",
       "      <td>1.003417</td>\n",
       "      <td>1.000372</td>\n",
       "      <td>1.002434</td>\n",
       "      <td>0.997004</td>\n",
       "      <td>1.006478</td>\n",
       "      <td>1.000981</td>\n",
       "      <td>1.000267</td>\n",
       "      <td>1.007377</td>\n",
       "    </tr>\n",
       "    <tr>\n",
       "      <th>...</th>\n",
       "      <td>...</td>\n",
       "      <td>...</td>\n",
       "      <td>...</td>\n",
       "      <td>...</td>\n",
       "      <td>...</td>\n",
       "      <td>...</td>\n",
       "      <td>...</td>\n",
       "      <td>...</td>\n",
       "      <td>...</td>\n",
       "      <td>...</td>\n",
       "      <td>...</td>\n",
       "      <td>...</td>\n",
       "      <td>...</td>\n",
       "      <td>...</td>\n",
       "      <td>...</td>\n",
       "      <td>...</td>\n",
       "      <td>...</td>\n",
       "      <td>...</td>\n",
       "      <td>...</td>\n",
       "      <td>...</td>\n",
       "      <td>...</td>\n",
       "    </tr>\n",
       "    <tr>\n",
       "      <th>7556</th>\n",
       "      <td>13.156293</td>\n",
       "      <td>20.994921</td>\n",
       "      <td>17.613420</td>\n",
       "      <td>13.523307</td>\n",
       "      <td>11.845658</td>\n",
       "      <td>21.437774</td>\n",
       "      <td>13.612364</td>\n",
       "      <td>14.992472</td>\n",
       "      <td>19.552406</td>\n",
       "      <td>15.000431</td>\n",
       "      <td>...</td>\n",
       "      <td>13.830658</td>\n",
       "      <td>13.617699</td>\n",
       "      <td>23.486227</td>\n",
       "      <td>12.557552</td>\n",
       "      <td>14.050589</td>\n",
       "      <td>13.331960</td>\n",
       "      <td>13.139462</td>\n",
       "      <td>15.896584</td>\n",
       "      <td>19.865435</td>\n",
       "      <td>19.881287</td>\n",
       "    </tr>\n",
       "    <tr>\n",
       "      <th>7557</th>\n",
       "      <td>13.200113</td>\n",
       "      <td>21.013114</td>\n",
       "      <td>17.626138</td>\n",
       "      <td>13.564632</td>\n",
       "      <td>11.804556</td>\n",
       "      <td>21.460308</td>\n",
       "      <td>13.638929</td>\n",
       "      <td>14.986692</td>\n",
       "      <td>19.561331</td>\n",
       "      <td>14.972279</td>\n",
       "      <td>...</td>\n",
       "      <td>13.906908</td>\n",
       "      <td>13.663138</td>\n",
       "      <td>23.433268</td>\n",
       "      <td>12.546806</td>\n",
       "      <td>14.048544</td>\n",
       "      <td>13.336082</td>\n",
       "      <td>13.140950</td>\n",
       "      <td>15.893686</td>\n",
       "      <td>19.874629</td>\n",
       "      <td>19.982887</td>\n",
       "    </tr>\n",
       "    <tr>\n",
       "      <th>7558</th>\n",
       "      <td>13.210123</td>\n",
       "      <td>21.007303</td>\n",
       "      <td>17.635378</td>\n",
       "      <td>13.593324</td>\n",
       "      <td>11.733253</td>\n",
       "      <td>21.500272</td>\n",
       "      <td>13.612938</td>\n",
       "      <td>14.984899</td>\n",
       "      <td>19.519585</td>\n",
       "      <td>15.024268</td>\n",
       "      <td>...</td>\n",
       "      <td>13.924213</td>\n",
       "      <td>13.677392</td>\n",
       "      <td>23.429293</td>\n",
       "      <td>12.588972</td>\n",
       "      <td>14.108018</td>\n",
       "      <td>13.354391</td>\n",
       "      <td>13.151232</td>\n",
       "      <td>15.873573</td>\n",
       "      <td>19.915582</td>\n",
       "      <td>20.001195</td>\n",
       "    </tr>\n",
       "    <tr>\n",
       "      <th>7559</th>\n",
       "      <td>13.211173</td>\n",
       "      <td>20.966956</td>\n",
       "      <td>17.604343</td>\n",
       "      <td>13.599491</td>\n",
       "      <td>11.717207</td>\n",
       "      <td>21.565918</td>\n",
       "      <td>13.632038</td>\n",
       "      <td>14.972029</td>\n",
       "      <td>19.464058</td>\n",
       "      <td>15.049826</td>\n",
       "      <td>...</td>\n",
       "      <td>13.940848</td>\n",
       "      <td>13.699797</td>\n",
       "      <td>23.450937</td>\n",
       "      <td>12.581600</td>\n",
       "      <td>14.140558</td>\n",
       "      <td>13.378280</td>\n",
       "      <td>13.085297</td>\n",
       "      <td>15.865929</td>\n",
       "      <td>19.901123</td>\n",
       "      <td>20.003372</td>\n",
       "    </tr>\n",
       "    <tr>\n",
       "      <th>7560</th>\n",
       "      <td>13.210970</td>\n",
       "      <td>21.106949</td>\n",
       "      <td>17.568853</td>\n",
       "      <td>13.618719</td>\n",
       "      <td>11.726407</td>\n",
       "      <td>21.617886</td>\n",
       "      <td>13.700833</td>\n",
       "      <td>15.006293</td>\n",
       "      <td>19.525647</td>\n",
       "      <td>15.069130</td>\n",
       "      <td>...</td>\n",
       "      <td>13.936848</td>\n",
       "      <td>13.740502</td>\n",
       "      <td>23.501511</td>\n",
       "      <td>12.579554</td>\n",
       "      <td>14.136623</td>\n",
       "      <td>13.370051</td>\n",
       "      <td>13.042887</td>\n",
       "      <td>15.909368</td>\n",
       "      <td>19.861608</td>\n",
       "      <td>20.012012</td>\n",
       "    </tr>\n",
       "  </tbody>\n",
       "</table>\n",
       "<p>7561 rows × 500 columns</p>\n",
       "</div>"
      ],
      "text/plain": [
       "            0          1          2          3          4          5    \\\n",
       "0      1.000000   1.000000   1.000000   1.000000   1.000000   1.000000   \n",
       "1      1.002417   0.998028   0.997839   0.995841   0.997926   0.999810   \n",
       "2      1.002056   0.996429   0.997561   0.994761   0.997474   0.998980   \n",
       "3      1.005161   0.999490   0.998011   0.993423   0.997065   0.995483   \n",
       "4      1.007330   1.001471   0.999706   0.994279   0.999637   0.990942   \n",
       "...         ...        ...        ...        ...        ...        ...   \n",
       "7556  13.156293  20.994921  17.613420  13.523307  11.845658  21.437774   \n",
       "7557  13.200113  21.013114  17.626138  13.564632  11.804556  21.460308   \n",
       "7558  13.210123  21.007303  17.635378  13.593324  11.733253  21.500272   \n",
       "7559  13.211173  20.966956  17.604343  13.599491  11.717207  21.565918   \n",
       "7560  13.210970  21.106949  17.568853  13.618719  11.726407  21.617886   \n",
       "\n",
       "            6          7          8          9    ...        490        491  \\\n",
       "0      1.000000   1.000000   1.000000   1.000000  ...   1.000000   1.000000   \n",
       "1      1.001161   0.995750   1.001520   1.001773  ...   0.998831   1.002301   \n",
       "2      1.003782   0.995392   1.007347   1.002916  ...   0.995915   1.000697   \n",
       "3      1.004899   0.993373   1.010154   1.002836  ...   0.998320   1.001249   \n",
       "4      0.999761   0.995298   1.008202   1.006393  ...   0.998317   1.001226   \n",
       "...         ...        ...        ...        ...  ...        ...        ...   \n",
       "7556  13.612364  14.992472  19.552406  15.000431  ...  13.830658  13.617699   \n",
       "7557  13.638929  14.986692  19.561331  14.972279  ...  13.906908  13.663138   \n",
       "7558  13.612938  14.984899  19.519585  15.024268  ...  13.924213  13.677392   \n",
       "7559  13.632038  14.972029  19.464058  15.049826  ...  13.940848  13.699797   \n",
       "7560  13.700833  15.006293  19.525647  15.069130  ...  13.936848  13.740502   \n",
       "\n",
       "            492        493        494        495        496        497  \\\n",
       "0      1.000000   1.000000   1.000000   1.000000   1.000000   1.000000   \n",
       "1      0.999536   1.000382   1.000945   0.998708   0.999054   1.004193   \n",
       "2      0.999460   1.003515   1.004452   0.998585   1.003360   1.002873   \n",
       "3      1.001414   1.001034   1.002515   0.997489   1.002986   1.002223   \n",
       "4      1.003417   1.000372   1.002434   0.997004   1.006478   1.000981   \n",
       "...         ...        ...        ...        ...        ...        ...   \n",
       "7556  23.486227  12.557552  14.050589  13.331960  13.139462  15.896584   \n",
       "7557  23.433268  12.546806  14.048544  13.336082  13.140950  15.893686   \n",
       "7558  23.429293  12.588972  14.108018  13.354391  13.151232  15.873573   \n",
       "7559  23.450937  12.581600  14.140558  13.378280  13.085297  15.865929   \n",
       "7560  23.501511  12.579554  14.136623  13.370051  13.042887  15.909368   \n",
       "\n",
       "            498        499  \n",
       "0      1.000000   1.000000  \n",
       "1      0.998388   1.002707  \n",
       "2      0.998254   1.006221  \n",
       "3      1.000314   1.009838  \n",
       "4      1.000267   1.007377  \n",
       "...         ...        ...  \n",
       "7556  19.865435  19.881287  \n",
       "7557  19.874629  19.982887  \n",
       "7558  19.915582  20.001195  \n",
       "7559  19.901123  20.003372  \n",
       "7560  19.861608  20.012012  \n",
       "\n",
       "[7561 rows x 500 columns]"
      ]
     },
     "execution_count": 107,
     "metadata": {},
     "output_type": "execute_result"
    }
   ],
   "source": [
    "portfolio_cumulative_returns"
   ]
  },
  {
   "cell_type": "code",
   "execution_count": 108,
   "metadata": {},
   "outputs": [
    {
     "name": "stdout",
     "output_type": "stream",
     "text": [
      "End of 20 years:\n",
      " 0      6.115758\n",
      "1      6.379381\n",
      "2      7.648813\n",
      "3      6.618552\n",
      "4      4.822967\n",
      "         ...   \n",
      "495    5.338287\n",
      "496    5.325166\n",
      "497    6.298152\n",
      "498    7.112682\n",
      "499    6.244251\n",
      "Name: 5040, Length: 500, dtype: float64\n"
     ]
    }
   ],
   "source": [
    "# Select the last row for the cumulative returns (cumulative returns at 20 years)\n",
    "# YOUR CODE HERE\n",
    "#5040 is 252days * 20 years\n",
    "twentyYearProbability = portfolio_cumulative_returns.iloc[5040,:5041]\n",
    "print(f\"End of 20 years:\\n {twentyYearProbability}\")\n"
   ]
  },
  {
   "cell_type": "code",
   "execution_count": 109,
   "metadata": {},
   "outputs": [
    {
     "name": "stdout",
     "output_type": "stream",
     "text": [
      "0.05    11.201370\n",
      "0.95    21.422224\n",
      "Name: 7560, dtype: float64\n",
      "0.05    4.723311\n",
      "0.95    8.116009\n",
      "Name: 5040, dtype: float64\n"
     ]
    }
   ],
   "source": [
    "# Display the 90% confidence interval for the ending returns\n",
    "# YOUR CODE HERE\n",
    "\n",
    "######\n",
    "confidence_interval_30_90 = thirtyYearProbability.quantile(q=[0.05, 0.95])\n",
    "confidence_interval_20_90 = twentyYearProbability.quantile(q=[0.05, 0.95])\n",
    "\n",
    "print(confidence_interval_30_90)\n",
    "print(confidence_interval_20_90)\n",
    "\n"
   ]
  },
  {
   "cell_type": "code",
   "execution_count": 110,
   "metadata": {},
   "outputs": [
    {
     "data": {
      "text/plain": [
       "<matplotlib.lines.Line2D at 0x13f99c05860>"
      ]
     },
     "execution_count": 110,
     "metadata": {},
     "output_type": "execute_result"
    },
    {
     "data": {
      "image/png": "[encoded data removed]",
      "text/plain": [
       "<Figure size 432x288 with 1 Axes>"
      ]
     },
     "metadata": {
      "needs_background": "light"
     },
     "output_type": "display_data"
    },
    {
     "data": {
      "image/png": "[encoded data removed]",
      "text/plain": [
       "<Figure size 432x288 with 1 Axes>"
      ]
     },
     "metadata": {
      "needs_background": "light"
     },
     "output_type": "display_data"
    }
   ],
   "source": [
    "# Visualize the distribution of the ending returns\n",
    "# YOUR CODE HERE\n",
    "#### 30 year\n",
    "thirtyYearProbability.plot(kind='hist')\n",
    "plt.figure()\n",
    "thirtyYearProbability.plot(kind='hist', density=True, bins=10)\n",
    "plt.axvline(confidence_interval_30_90.iloc[0], color='r')\n",
    "plt.axvline(confidence_interval_30_90.iloc[1], color='r')\n",
    "\n"
   ]
  },
  {
   "cell_type": "code",
   "execution_count": 111,
   "metadata": {},
   "outputs": [
    {
     "data": {
      "text/plain": [
       "<matplotlib.lines.Line2D at 0x13f99cdd048>"
      ]
     },
     "execution_count": 111,
     "metadata": {},
     "output_type": "execute_result"
    },
    {
     "data": {
      "image/png": "[encoded data removed]",
      "text/plain": [
       "<Figure size 432x288 with 1 Axes>"
      ]
     },
     "metadata": {
      "needs_background": "light"
     },
     "output_type": "display_data"
    },
    {
     "data": {
      "image/png": "[encoded data removed]",
      "text/plain": [
       "<Figure size 432x288 with 1 Axes>"
      ]
     },
     "metadata": {
      "needs_background": "light"
     },
     "output_type": "display_data"
    }
   ],
   "source": [
    "#### 20 year\n",
    "\n",
    "twentyYearProbability.plot(kind='hist')\n",
    "plt.figure()\n",
    "twentyYearProbability.plot(kind='hist', density=True, bins=10)\n",
    "plt.axvline(confidence_interval_20_90.iloc[0], color='r')\n",
    "plt.axvline(confidence_interval_20_90.iloc[1], color='r')"
   ]
  },
  {
   "cell_type": "markdown",
   "metadata": {},
   "source": [
    "---"
   ]
  },
  {
   "cell_type": "markdown",
   "metadata": {},
   "source": [
    "# Retirement Analysis\n",
    "\n",
    "In this section, you will use the monte carlo model to answer the following retirement planning questions:\n",
    "\n",
    "1. What are the expected cumulative returns at 30 years for the 10th, 50th, and 90th percentiles?\n",
    "2. Given an initial investment of `$20,000`, what is the expected portfolio return in dollars at the 10th, 50th, and 90th percentiles?\n",
    "3. Given the current projected annual income from the Plaid analysis, will a 4% withdraw rate from the retirement portfolio meet or exceed that value at the 10th percentile?\n",
    "4. How would a 50% increase in the initial investment amount affect the 4% retirement withdrawal?"
   ]
  },
  {
   "cell_type": "markdown",
   "metadata": {},
   "source": [
    "### What are the expected cumulative returns at 30 years for the 10th, 50th, and 90th percentiles?"
   ]
  },
  {
   "cell_type": "code",
   "execution_count": 139,
   "metadata": {
    "scrolled": true
   },
   "outputs": [
    {
     "name": "stdout",
     "output_type": "stream",
     "text": [
      "90 percent: 0.1    11.940228\n",
      "0.9    20.150491\n",
      "Name: 7560, dtype: float64\n",
      "\n",
      "50 percent: 0.5    15.456192\n",
      "0.5    15.456192\n",
      "Name: 7560, dtype: float64\n",
      "\n",
      "10 percent: 0.9    20.150491\n",
      "0.1    11.940228\n",
      "Name: 7560, dtype: float64\n",
      "\n"
     ]
    }
   ],
   "source": [
    "# YOUR CODE HERE\n",
    "confidence_interval_30_90 = thirtyYearProbability.quantile(q=[0.10, 0.90])\n",
    "confidence_interval_30_50 = thirtyYearProbability.quantile(q=[0.50, 0.50])\n",
    "confidence_interval_30_10 = thirtyYearProbability.quantile(q=[0.90, 0.10])\n",
    "\n",
    "print(f\"90 percent: {confidence_interval_30_90}\\n\")\n",
    "print(f\"50 percent: {confidence_interval_30_50}\\n\")\n",
    "print(f\"10 percent: {confidence_interval_30_10}\\n\")\n"
   ]
  },
  {
   "cell_type": "code",
   "execution_count": 140,
   "metadata": {},
   "outputs": [
    {
     "data": {
      "text/plain": [
       "<Figure size 432x288 with 0 Axes>"
      ]
     },
     "execution_count": 140,
     "metadata": {},
     "output_type": "execute_result"
    },
    {
     "data": {
      "image/png": "[encoded data removed]",
      "text/plain": [
       "<Figure size 432x288 with 1 Axes>"
      ]
     },
     "metadata": {
      "needs_background": "light"
     },
     "output_type": "display_data"
    },
    {
     "data": {
      "text/plain": [
       "<Figure size 432x288 with 0 Axes>"
      ]
     },
     "metadata": {},
     "output_type": "display_data"
    }
   ],
   "source": [
    "plt.axvline(confidence_interval_30_90.iloc[0], color='r')\n",
    "plt.axvline(confidence_interval_30_90.iloc[1], color='r')\n",
    "thirtyYearProbability.plot(kind='hist')\n",
    "plt.figure()\n",
    "#thirtyYearProbability.plot(kind='hist', density=True, bins=10)\n",
    "\n",
    "\n",
    "\n"
   ]
  },
  {
   "cell_type": "code",
   "execution_count": 141,
   "metadata": {},
   "outputs": [
    {
     "data": {
      "text/plain": [
       "<Figure size 432x288 with 0 Axes>"
      ]
     },
     "execution_count": 141,
     "metadata": {},
     "output_type": "execute_result"
    },
    {
     "data": {
      "image/png": "[encoded data removed]",
      "text/plain": [
       "<Figure size 432x288 with 1 Axes>"
      ]
     },
     "metadata": {
      "needs_background": "light"
     },
     "output_type": "display_data"
    },
    {
     "data": {
      "text/plain": [
       "<Figure size 432x288 with 0 Axes>"
      ]
     },
     "metadata": {},
     "output_type": "display_data"
    }
   ],
   "source": [
    "plt.axvline(confidence_interval_30_50.iloc[0], color='r')\n",
    "plt.axvline(confidence_interval_30_50.iloc[1], color='r')\n",
    "thirtyYearProbability.plot(kind='hist')\n",
    "plt.figure()\n",
    "#thirtyYearProbability.plot(kind='hist', density=True, bins=10)\n"
   ]
  },
  {
   "cell_type": "code",
   "execution_count": 137,
   "metadata": {},
   "outputs": [
    {
     "data": {
      "text/plain": [
       "<Figure size 432x288 with 0 Axes>"
      ]
     },
     "execution_count": 137,
     "metadata": {},
     "output_type": "execute_result"
    },
    {
     "data": {
      "image/png": "[encoded data removed]",
      "text/plain": [
       "<Figure size 432x288 with 1 Axes>"
      ]
     },
     "metadata": {
      "needs_background": "light"
     },
     "output_type": "display_data"
    },
    {
     "data": {
      "text/plain": [
       "<Figure size 432x288 with 0 Axes>"
      ]
     },
     "metadata": {},
     "output_type": "display_data"
    }
   ],
   "source": [
    "\n",
    "plt.axvline(confidence_interval_30_10.iloc[0], color='r')\n",
    "plt.axvline(confidence_interval_30_10.iloc[1], color='r')\n",
    "thirtyYearProbability.plot(kind='hist')\n",
    "plt.figure()"
   ]
  },
  {
   "cell_type": "markdown",
   "metadata": {},
   "source": [
    "### Given an initial investment of `$20,000`, what is the expected portfolio return in dollars at the 10th, 50th, and 90th percentiles?"
   ]
  },
  {
   "cell_type": "code",
   "execution_count": 138,
   "metadata": {},
   "outputs": [
    {
     "name": "stdout",
     "output_type": "stream",
     "text": [
      "90 + between 244027.4081741154 and 448444.4831633069\n",
      "50 + between 290599.41778631014 and 373145.02664088266\n",
      "10 + between 295070.4066734277 and 321458.56787353987\n"
     ]
    }
   ],
   "source": [
    "# YOUR CODE HERE\n",
    "\n",
    "\n",
    "lowerBnd_90 = 20_000 + (20_000 * confidence_interval_30_90.iloc[0])\n",
    "upperBnd_90 = 20_000 + (20_000 * confidence_interval_30_90.iloc[1])\n",
    "\n",
    "lowerBnd_50 = 20_000 + (20_000 * confidence_interval_30_50.iloc[0])\n",
    "upperBnd_50 = 20_000 + (20_000 * confidence_interval_30_50.iloc[1])\n",
    "\n",
    "lowerBnd_10 = 20_000 + (20_000 * confidence_interval_30_10.iloc[0])\n",
    "upperBnd_10 = 20_000 + (20_000 * confidence_interval_30_10.iloc[1])\n",
    "\n",
    "print(f\"90 + between {lowerBnd_90} and {upperBnd_90}\"  )\n",
    "print(f\"50 + between {lowerBnd_50} and {upperBnd_50}\"  )\n",
    "print(f\"10 + between {lowerBnd_10} and {upperBnd_10}\"  )\n",
    "\n",
    "# Calculate investment profit/loss of lower and upper bound cumulative portfolio returns\n"
   ]
  },
  {
   "cell_type": "markdown",
   "metadata": {},
   "source": [
    "### Given the current projected annual income from the Plaid analysis, will a 4% withdraw rate from the retirement portfolio meet or exceed that value at the 10th percentile?\n",
    "\n",
    "Note: This is effectively saying that 90% of the expected returns will be greater than the return at the 10th percentile, so this can help measure the uncertainty about having enough funds at retirement"
   ]
  },
  {
   "cell_type": "code",
   "execution_count": 159,
   "metadata": {},
   "outputs": [
    {
     "name": "stdout",
     "output_type": "stream",
     "text": [
      "the Plaid withdrawl will amount to 6085\n",
      "\n",
      "Based on our simulation, the 10% confidence interval shows 11802.82 withdrawal amount for our other portfolio\n",
      " \n"
     ]
    }
   ],
   "source": [
    "# YOUR CODE HERE\n",
    "\n",
    "plaidA = 6085\n",
    "initialInvestment = 20_000\n",
    "\n",
    "#print(f\"10 + between {lowerBnd_10} and {upperBnd_10}\" )\n",
    "portfolio4PercentWtthdrawlLower = lowerBnd_10 * .04\n",
    "portfolio4PercentWtthdrawlUpper = lowerBnd_10 * .04\n",
    "\n",
    "withDrawalAvg = (portfolio4PercentWtthdrawlLower + portfolio4PercentWtthdrawlUpper) / 2\n",
    "\n",
    "print(f\"the Plaid withdrawl will amount to {plaidA}\\n\")\n",
    "print(f\"Based on our simulation, the 10% confidence interval shows \"\n",
    "      f\"{round(withDrawalAvg,2)} withdrawal amount for our other portfolio\\n \")\n",
    "\n",
    "\n",
    "\n",
    "# 20,000"
   ]
  },
  {
   "cell_type": "markdown",
   "metadata": {},
   "source": [
    "### How would a 50% increase in the initial investment amount affect the 4% retirement withdrawal?"
   ]
  },
  {
   "cell_type": "code",
   "execution_count": 162,
   "metadata": {},
   "outputs": [
    {
     "name": "stdout",
     "output_type": "stream",
     "text": [
      "the Plaid withdrawl will amount to 6085\n",
      "\n",
      "After adding 10K, the 10% confidence interval shows 25380.59 withdrawal amount for our other portfolio\n",
      " \n"
     ]
    }
   ],
   "source": [
    "# YOUR CODE HERE\n",
    "plaidA = 6085\n",
    "initialInvestment2 = 20_000*1.5\n",
    "\n",
    "lowerBnd_10 = initialInvestment2 + (initialInvestment2 * confidence_interval_30_10.iloc[0])\n",
    "upperBnd_10 = initialInvestment2 + (initialInvestment2 * confidence_interval_30_10.iloc[1])\n",
    "#print(f\"10 + between {lowerBnd_10} and {upperBnd_10}\" )\n",
    "portfolio4PercentWtthdrawlLower2 = lowerBnd_10 * .04\n",
    "portfolio4PercentWtthdrawlUpper2 = lowerBnd_10 * .04\n",
    "\n",
    "withDrawalAvg2 = (portfolio4PercentWtthdrawlLower2 + portfolio4PercentWtthdrawlUpper2) / 2\n",
    "\n",
    "print(f\"the Plaid withdrawl will amount to {plaidA}\\n\")\n",
    "print(f\"After adding 10K, the 10% confidence interval shows \"\n",
    "      f\"{round(withDrawalAvg2,2)} withdrawal amount for our other portfolio\\n \")\n",
    "\n"
   ]
  },
  {
   "cell_type": "markdown",
   "metadata": {},
   "source": [
    "### Optional Challenge\n",
    "\n",
    "In this section, you will calculate and plot the cumulative returns for the median and 90% confidence intervals. This plot shows the expected cumulative returns for any given day between the first day and the last day of investment. "
   ]
  },
  {
   "cell_type": "code",
   "execution_count": 117,
   "metadata": {},
   "outputs": [],
   "source": [
    "# YOUR CODE HERE"
   ]
  },
  {
   "cell_type": "code",
   "execution_count": null,
   "metadata": {},
   "outputs": [],
   "source": []
  },
  {
   "cell_type": "code",
   "execution_count": null,
   "metadata": {},
   "outputs": [],
   "source": []
  }
 ],
 "metadata": {
  "kernel_info": {
   "name": "dev"
  },
  "kernelspec": {
   "display_name": "Python 3",
   "language": "python",
   "name": "python3"
  },
  "language_info": {
   "codemirror_mode": {
    "name": "ipython",
    "version": 3
   },
   "file_extension": ".py",
   "mimetype": "text/x-python",
   "name": "python",
   "nbconvert_exporter": "python",
   "pygments_lexer": "ipython3",
   "version": "3.7.3"
  },
  "nteract": {
   "version": "0.12.3"
  }
 },
 "nbformat": 4,
 "nbformat_minor": 4
}
