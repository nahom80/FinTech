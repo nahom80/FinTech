{
 "cells": [
  {
   "cell_type": "code",
   "execution_count": 1,
   "metadata": {},
   "outputs": [],
   "source": [
    "import subprocess\n",
    "import json\n",
    "import os\n",
    "from constants import BTC, BTCTEST, ETH\n",
    "from pprint import pprint\n",
    "from getpass import getpass\n",
    "from pathlib import Path\n",
    "from eth_account import Account\n",
    "\n",
    "from bit import PrivateKeyTestnet\n",
    "from bit.network import NetworkAPI\n",
    "from web3 import Account,Web3, middleware\n",
    "from web3.middleware import geth_poa_middleware\n",
    "w3 = Web3(Web3.HTTPProvider(os.getenv('WEB3_PROVIDER', 'http://localhost:8545')))\n",
    "\n",
    "#w3.middleware_stack.inject(geth_poa_middleware, layer=0) # <-------- throws error\n",
    "w3.middleware_onion.inject(geth_poa_middleware, layer=0)\n",
    "\n",
    "MNEMONIC = os.getenv(\"MNEMONIC\")"
   ]
  },
  {
   "cell_type": "code",
   "execution_count": 2,
   "metadata": {},
   "outputs": [],
   "source": [
    "\n",
    "\n",
    "def deriveWallets(coinType, numWallets, mnemonic):\n",
    "    phpAndParams = f'php hd-wallet-derive-master\\hd-wallet-derive.php --mnemonic=\"{mnemonic}\" --numderive=\"{numWallets}\" --coin=\"{coinType}\" --format=json -g' \n",
    "    proc1 = subprocess.Popen(phpAndParams, shell=True,stdout=subprocess.PIPE)\n",
    "    (output, err) = proc1.communicate()\n",
    "    keyDicts = json.loads(output)\n",
    "    return keyDicts\n",
    "\n"
   ]
  },
  {
   "cell_type": "code",
   "execution_count": 3,
   "metadata": {},
   "outputs": [],
   "source": [
    "def create_eth_tx(account, recipient, amount):\n",
    "    gasEstimate = w3.eth.estimateGas(\n",
    "        {\"from\": account.address, \"to\": recipient, \"value\": amount}\n",
    "    )\n",
    "    return {\n",
    "        \"to\": recipient,\n",
    "        \"from\": account.address,\n",
    "        \"value\": amount,\n",
    "        \"gas\": gasEstimate,\n",
    "        \"gasPrice\": w3.eth.gasPrice,\n",
    "        \"nonce\": w3.eth.getTransactionCount(account.address)        \n",
    "    }\n",
    "\n",
    "def create_btc_tx(account, to, amount):\n",
    "    return PrivateKeyTestnet.prepare_transaction(account.address, [(to, amount, BTC)])\n",
    "\n",
    "\n",
    "def create_trx(account, to, amount,coin):\n",
    "    if coin == ETH:\n",
    "        return create_eth_tx(account,to,amount)\n",
    "    elif coin == BTCTEST:\n",
    "        return create_btc_tx(account, to, amount)\n",
    "\n",
    "\n",
    "def send_tx_one(account, recipient, amount):\n",
    "    tx = create_raw_tx(account, recipient, amount)\n",
    "    signed_tx = account.sign_transaction(tx)\n",
    "    result = w3.eth.sendRawTransaction(signed_tx.rawTransaction)\n",
    "    print(result.hex())\n",
    "    return result.hex()"
   ]
  },
  {
   "cell_type": "code",
   "execution_count": 4,
   "metadata": {
    "scrolled": true
   },
   "outputs": [],
   "source": [
    "ETHKeyDict = deriveWallets('eth',2,MNEMONIC)\n",
    "BTCKeyDict = deriveWallets('btc-test',2,MNEMONIC)\n"
   ]
  },
  {
   "cell_type": "code",
   "execution_count": 5,
   "metadata": {},
   "outputs": [
    {
     "name": "stdout",
     "output_type": "stream",
     "text": [
      "[{'path': \"m/44'/60'/0'/0/0\", 'address': '0xEc985F1C90D4AFeD0d90f62cdE6A570E986Cf4aa', 'xprv': 'xprvA4FssuGEitX6x7Wemv7MBCcvUoKmXLLJg7ryGnLtdquLZfmpRAFf7WC7dkUxSpacGrtxQEHkgSF8XnCovanCNmkSeQHwDdWfrrSKXiDQ953', 'xpub': 'xpub6HFEHQo8ZG5QAbb7sweMYLZf2qAFvo4A3Lna5AkWCBSKSU6xxhZufJWbUzfWaFiiYhntbeNLByHgMagNDM8AspsRMzdrSRGKET2PF7zdFmV', 'privkey': '0xc7983376f390bfeddb0458c1dc0e31dd7b342ffa1b234d462b527fd99971398f', 'pubkey': '0257da1aa23732a07cbb872b681eeb1bd2059239db35600c1a71eaa26fb5350869', 'pubkeyhash': 'e8078e8c417956e3f71993042eb1852656e1fdad', 'index': 0}, {'path': \"m/44'/60'/0'/0/1\", 'address': '0xb340da6BEC1eBDEE435B3b4Ed052CF2261e03ae1', 'xprv': 'xprvA4FssuGEitX71wu9P22FcBVRc6r23Y3EvTdsBeLw5NqUfnNFqrsqUPYXcqMaiDZgpnY4sMA4PWG59vj8ChUnWzBgmnPmTDjcC7EGu8e9V1r', 'xpub': 'xpub6HFEHQo8ZG5QERycV3ZFyKSAA8gWSzm6HgZTz2kYdiNTYahQPQC62Bs1U7jMuN3wZeMb1n4bbNciGk6YV4imrNVJYppvmU7T1dvi8ZqUaFd', 'privkey': '0x9825ffb677bd924d9d201de41d233949444723ba2443ead6abd437bd98fe60cf', 'pubkey': '0349494db0fbfa710845cf7b03c5a491b947d2d50c45fd1661daa5ca31eb423b1a', 'pubkeyhash': 'ac10288fb4c68930394675186491b99c4a4c2b3e', 'index': 1}]\n",
      "[{'path': \"m/44'/1'/0'/0/0\", 'address': 'mgCnzr3MhDQBBTjmJusAGCWPdvy9Lmcc1A', 'xprv': 'tprv8koe7UC7NN6zH9daq3ZPva7sQF6f2uyU75PnQ4oV4zLVZyTcXZv9FcQosAPfGvBFGwGGPeG7qSDdA6spDCjncFDmb6z6xxy2xhpa2qt9DYz', 'xpub': 'tpubDHVgFtEMWjnfAcfNihDzKymyyGcbCFANgNzZgaqnVG8tQTiP9xjjS72g3J97jpwyPZkinvczyYHY8cEek6yvsdy3qMDx2cpKi6vqu1Nmw2S', 'privkey': 'cPuGh9V71UVonb3h1utApHTok3bNNb4ZqGGPwWEVQdbjUvrbXFnS', 'pubkey': '02aef2e5dba5886fbba17aa0fa0d60d88e460b7ca277f7b037ea5c540318bc9d2b', 'pubkeyhash': '0788e0c3fca37ac472754eef4bbe4af81c546b7a', 'index': 0}, {'path': \"m/44'/1'/0'/0/1\", 'address': 'n4AicaddUu2moAc9FroV3afQ4GsWRN135y', 'xprv': 'tprv8koe7UC7NN6zKM4hki8ZYNXTJyGk1tCM1s6YJnqKXvXwNii5kcXzBgdt4qNrP69eZYNhfwDtRaS3JRbtu3aBsZcdcpRpjRBrcaD4bNeCfkS', 'xpub': 'tpubDHVgFtEMWjnfCp6VeMo9wnBZszngBDPFbAhKbJscxCLLDCxrP1MaNBFkF1FutFxPoyLbkqfBEY8CLRSdo1MeUiCGZwLn99JrZGxVyRaVa87', 'privkey': 'cNW934Af2LcM2vc1tf7BVkzERD24D2hsnxPyYzh1pqdXkKEpEdH2', 'pubkey': '039ddea59ff06ba71655b361004e16eb53d16148aee0dafbb9e7f8011c8d728e14', 'pubkeyhash': 'f8772760e41e6406b25b874b928515f296821bea', 'index': 1}]\n"
     ]
    }
   ],
   "source": [
    "print(ETHKeyDict)\n",
    "print(BTCKeyDict)\n",
    "\n"
   ]
  },
  {
   "cell_type": "code",
   "execution_count": 6,
   "metadata": {},
   "outputs": [],
   "source": [
    "def priv_key_to_account(coin, priv_key):\n",
    "    if coin == ETH:\n",
    "        return Account.privateKeyToAccount(priv_key)\n",
    "    if coin == BTCTEST:\n",
    "        return PrivateKeyTestnet(priv_key)"
   ]
  },
  {
   "cell_type": "code",
   "execution_count": 7,
   "metadata": {},
   "outputs": [
    {
     "name": "stdout",
     "output_type": "stream",
     "text": [
      "0xEc985F1C90D4AFeD0d90f62cdE6A570E986Cf4aa\n",
      "0xb340da6BEC1eBDEE435B3b4Ed052CF2261e03ae1\n",
      "mgCnzr3MhDQBBTjmJusAGCWPdvy9Lmcc1A\n",
      "n4AicaddUu2moAc9FroV3afQ4GsWRN135y\n"
     ]
    }
   ],
   "source": [
    "ETH_account_0 = priv_key_to_account('eth', ETHKeyDict[0]['privkey'])\n",
    "ETH_account_1 = priv_key_to_account('eth', ETHKeyDict[1]['privkey'])\n",
    "BTC_account_0 = priv_key_to_account('btc-test', BTCKeyDict[0]['privkey'])\n",
    "BTC_account_1 = priv_key_to_account('btc-test', BTCKeyDict[1]['privkey'])\n",
    "\n",
    "\n",
    "print(ETH_account_0.address)\n",
    "print(ETH_account_1.address)\n",
    "\n",
    "print(BTC_account_0.address)\n",
    "print(BTC_account_1.address)"
   ]
  },
  {
   "cell_type": "code",
   "execution_count": null,
   "metadata": {},
   "outputs": [],
   "source": []
  },
  {
   "cell_type": "code",
   "execution_count": null,
   "metadata": {},
   "outputs": [],
   "source": []
  },
  {
   "cell_type": "code",
   "execution_count": 8,
   "metadata": {},
   "outputs": [
    {
     "data": {
      "text/plain": [
       "{'to': '0xb340da6BEC1eBDEE435B3b4Ed052CF2261e03ae1',\n",
       " 'from': '0xEc985F1C90D4AFeD0d90f62cdE6A570E986Cf4aa',\n",
       " 'value': 1,\n",
       " 'gas': 21000,\n",
       " 'gasPrice': 20000000000,\n",
       " 'nonce': 5}"
      ]
     },
     "execution_count": 8,
     "metadata": {},
     "output_type": "execute_result"
    }
   ],
   "source": [
    "#send_tx('eth', ETH_account_0, ETH_account_1.address, '3')\n",
    "#send_tx_1(ETH_account_0, ETH_account_1.address,1)\n",
    "create_trx(ETH_account_0, ETH_account_1.address,1,ETH)\n"
   ]
  },
  {
   "cell_type": "code",
   "execution_count": null,
   "metadata": {},
   "outputs": [],
   "source": []
  },
  {
   "cell_type": "code",
   "execution_count": null,
   "metadata": {},
   "outputs": [],
   "source": []
  },
  {
   "cell_type": "code",
   "execution_count": 9,
   "metadata": {},
   "outputs": [
    {
     "data": {
      "text/plain": [
       "'{\"unspents\":[{\"amount\":1962424,\"confirmations\":22,\"script\":\"76a9140788e0c3fca37ac472754eef4bbe4af81c546b7a88ac\",\"txid\":\"f3bf73dac1bea9a45dec0e2165cb84f6b576db9cfa58841fb107ace4eeae6cc4\",\"txindex\":1,\"type\":\"p2pkh\",\"vsize\":148,\"segwit\":false},{\"amount\":1812196,\"confirmations\":574,\"script\":\"76a9140788e0c3fca37ac472754eef4bbe4af81c546b7a88ac\",\"txid\":\"0ebcabf1e6998d7e721b05660d729f9e733998a76e417f6dccd4a53c8ab28022\",\"txindex\":0,\"type\":\"p2pkh\",\"vsize\":148,\"segwit\":false}],\"outputs\":[[\"n4AicaddUu2moAc9FroV3afQ4GsWRN135y\",6000],[\"mgCnzr3MhDQBBTjmJusAGCWPdvy9Lmcc1A\",3695316]]}'"
      ]
     },
     "execution_count": 9,
     "metadata": {},
     "output_type": "execute_result"
    }
   ],
   "source": [
    "create_btc_tx( BTC_account_0, BTC_account_1.address, .00006)"
   ]
  },
  {
   "cell_type": "code",
   "execution_count": null,
   "metadata": {},
   "outputs": [],
   "source": []
  }
 ],
 "metadata": {
  "kernelspec": {
   "display_name": "Python 3",
   "language": "python",
   "name": "python3"
  },
  "language_info": {
   "codemirror_mode": {
    "name": "ipython",
    "version": 3
   },
   "file_extension": ".py",
   "mimetype": "text/x-python",
   "name": "python",
   "nbconvert_exporter": "python",
   "pygments_lexer": "ipython3",
   "version": "3.7.7"
  }
 },
 "nbformat": 4,
 "nbformat_minor": 4
}
